{
 "cells": [
  {
   "cell_type": "code",
   "execution_count": 2,
   "id": "c253a568-0b78-472e-b4eb-4e29cef6b396",
   "metadata": {},
   "outputs": [],
   "source": [
    "#1 какие еще существуют коды типов?\n",
    "#2 напишите код, подобный приведенному выше, но с другим типом"
   ]
  },
  {
   "cell_type": "code",
   "execution_count": 3,
   "id": "e6ca2145-2163-45af-aca4-396ede182c6a",
   "metadata": {},
   "outputs": [],
   "source": [
    "#'b'-signed char, int\n",
    "\n",
    "#'B'-unsigned charint\n",
    "\n",
    "#'u'-wchar_t, Unicode character\n",
    "\n",
    "#'w'-Py_UCS4, Unicode character\n",
    "\n",
    "#'h'-signed short, int\n",
    "\n",
    "#'H'-unsigned short, int\n",
    "\n",
    "#'i'-signed int, int\n",
    "\n",
    "#'I'-unsigned int, int\n",
    "\n",
    "#'l'-signed long, int\n",
    "\n",
    "#'L'-unsigned long, int\n",
    "\n",
    "#'q'-signed long long, int\n",
    "\n",
    "#'Q'-unsigned long long, int\n",
    "\n",
    "#'f'-float, float\n",
    "\n",
    "#'d'-double, float"
   ]
  },
  {
   "cell_type": "code",
   "execution_count": 4,
   "id": "dc253b0c-ab90-48e8-ae85-f0ac8fb912f1",
   "metadata": {},
   "outputs": [
    {
     "name": "stdout",
     "output_type": "stream",
     "text": [
      "80\n",
      "100\n",
      "100\n",
      "104\n"
     ]
    }
   ],
   "source": [
    "import array\n",
    "import sys\n",
    "\n",
    "a1 = array.array('l')\n",
    "a2 = array.array('I', [1, 2, 3, 4, 5])\n",
    "a3 = array.array('l', [1, 2, 3, 4, 5])\n",
    "a4 = array.array('d', [1.0, 2.0, 3.14])\n",
    "\n",
    "print (sys.getsizeof(a1))\n",
    "print (sys.getsizeof(a2))\n",
    "print (sys.getsizeof(a3))\n",
    "print (sys.getsizeof(a4))"
   ]
  },
  {
   "cell_type": "code",
   "execution_count": 5,
   "id": "c4fd047f-6eeb-4fc5-b03b-5a618184467b",
   "metadata": {},
   "outputs": [],
   "source": [
    "##3. напишите код для создания массива с 5 значениями, распологающимися через равные интервалы\n",
    "##в диапазоне от 0 до 1 "
   ]
  },
  {
   "cell_type": "code",
   "execution_count": 6,
   "id": "3971e2fb-0f1e-4874-b54a-30de9b59e704",
   "metadata": {},
   "outputs": [
    {
     "name": "stdout",
     "output_type": "stream",
     "text": [
      "[0.  0.2 0.4 0.6 0.8]\n"
     ]
    }
   ],
   "source": [
    "import numpy as np\n",
    "print (np.arange(0, 1, 0.2))"
   ]
  },
  {
   "cell_type": "code",
   "execution_count": 7,
   "id": "7f8478e5-4c8e-4cd4-a7e2-5aaed68de372",
   "metadata": {},
   "outputs": [],
   "source": [
    "##4. напишите код для создания массива с 5 равномерно распределенными случайными значениями\n",
    "##в диапазоне от 0 до 1"
   ]
  },
  {
   "cell_type": "code",
   "execution_count": 8,
   "id": "0e7c2dd0-a77d-4aae-8d61-1b34a7b45c5d",
   "metadata": {},
   "outputs": [
    {
     "name": "stdout",
     "output_type": "stream",
     "text": [
      "[0.95056525 0.37554111 0.07933989 0.62196741 0.03044045]\n"
     ]
    }
   ],
   "source": [
    "x1 = np.random.uniform(0, 1, 5)\n",
    "print(x1)"
   ]
  },
  {
   "cell_type": "code",
   "execution_count": 9,
   "id": "d1df6493-35ef-4d54-b80f-23b3dd07c5ea",
   "metadata": {},
   "outputs": [],
   "source": [
    "##5. напишите код для создания массива с 5 нормально распределенными случайными значениями\n",
    "##с мат. ожиданием =0 и дисперсией 1"
   ]
  },
  {
   "cell_type": "code",
   "execution_count": 10,
   "id": "6d9aba8d-bbde-4585-91b5-d68268fd16d1",
   "metadata": {},
   "outputs": [
    {
     "name": "stdout",
     "output_type": "stream",
     "text": [
      "[ 0.63082816  2.70307345 -2.44690189 -0.44101217  0.69444907]\n"
     ]
    }
   ],
   "source": [
    "x2=np.random.normal(0, 1, (5))\n",
    "print(x2)"
   ]
  },
  {
   "cell_type": "code",
   "execution_count": 11,
   "id": "84b51ad1-d3bb-421a-95a9-148bd3bec92b",
   "metadata": {},
   "outputs": [],
   "source": [
    "##6. Напишите код для создания массива с 5 случайными целыми числами от [0,10)"
   ]
  },
  {
   "cell_type": "code",
   "execution_count": 12,
   "id": "e03e4d7f-3cd1-4022-9b5f-058c7b0383ca",
   "metadata": {},
   "outputs": [
    {
     "name": "stdout",
     "output_type": "stream",
     "text": [
      "[5 8 9 5 0]\n"
     ]
    }
   ],
   "source": [
    "np.random.seed(1) #установка начального значения, уникальная подборка рандомных чисел\n",
    "x3 = np.random.randint(10, size=5)\n",
    "print(x3)"
   ]
  },
  {
   "cell_type": "code",
   "execution_count": 13,
   "id": "6eaf44ec-2371-4515-9c8f-0cc2531f45f6",
   "metadata": {},
   "outputs": [],
   "source": [
    "##7. Написать код для создания срезов массива 3 на 4 \n",
    "#- первые две строки и три столбца\n",
    "#-первые три строки и второй столбец\n",
    "#- все строки и столбцы в обратном порядке\n",
    "#-второй столбец\n",
    "#-третья строка"
   ]
  },
  {
   "cell_type": "code",
   "execution_count": 14,
   "id": "e22e7eac-f5e8-4a31-858d-bd2ee72a64a0",
   "metadata": {},
   "outputs": [
    {
     "name": "stdout",
     "output_type": "stream",
     "text": [
      "[[0 1 7 6]\n",
      " [9 2 4 5]\n",
      " [2 4 2 4]]\n"
     ]
    }
   ],
   "source": [
    "x6=np.random.randint(10, size=(3,4))\n",
    "print(x6)"
   ]
  },
  {
   "cell_type": "code",
   "execution_count": 15,
   "id": "20773912-e3ab-4333-864c-d21b3a2baff0",
   "metadata": {},
   "outputs": [
    {
     "name": "stdout",
     "output_type": "stream",
     "text": [
      "5\n"
     ]
    }
   ],
   "source": [
    "print(x6[1][3])"
   ]
  },
  {
   "cell_type": "code",
   "execution_count": 16,
   "id": "1b41765c-3daf-4ffb-8f27-1dc6dcf190b5",
   "metadata": {},
   "outputs": [
    {
     "name": "stdout",
     "output_type": "stream",
     "text": [
      "[[0 1 7]\n",
      " [9 2 4]]\n"
     ]
    }
   ],
   "source": [
    "print(x6[0:2,0:3])"
   ]
  },
  {
   "cell_type": "code",
   "execution_count": 17,
   "id": "3cdcf636-bad7-4d6f-8996-581651b81ba3",
   "metadata": {},
   "outputs": [
    {
     "name": "stdout",
     "output_type": "stream",
     "text": [
      "[1 2 4]\n"
     ]
    }
   ],
   "source": [
    "print(x6[0:3,1])"
   ]
  },
  {
   "cell_type": "code",
   "execution_count": 18,
   "id": "7d9de083-0199-4a06-aae8-9517d560991a",
   "metadata": {},
   "outputs": [
    {
     "name": "stdout",
     "output_type": "stream",
     "text": [
      "[[4 2 4 2]\n",
      " [5 4 2 9]\n",
      " [6 7 1 0]]\n"
     ]
    }
   ],
   "source": [
    "print(x6[::-1,::-1])"
   ]
  },
  {
   "cell_type": "code",
   "execution_count": 19,
   "id": "e90490d0-7517-40cc-90ef-8bca4d33f5e9",
   "metadata": {},
   "outputs": [
    {
     "name": "stdout",
     "output_type": "stream",
     "text": [
      "[1 2 4]\n"
     ]
    }
   ],
   "source": [
    "print(x6[0:,1])"
   ]
  },
  {
   "cell_type": "code",
   "execution_count": 20,
   "id": "97529153-db34-44b6-be2a-c49377d1ab12",
   "metadata": {},
   "outputs": [
    {
     "name": "stdout",
     "output_type": "stream",
     "text": [
      "[2 4 2 4]\n"
     ]
    }
   ],
   "source": [
    "print(x6[2,0:])"
   ]
  },
  {
   "cell_type": "code",
   "execution_count": 21,
   "id": "4e4cc211-4808-48e8-a160-e22c62647367",
   "metadata": {},
   "outputs": [],
   "source": [
    "## 8. Продемонстрируйте как сделать срез-копию "
   ]
  },
  {
   "cell_type": "code",
   "execution_count": 22,
   "id": "11600e33-624d-4e20-8422-fccefb190ee9",
   "metadata": {},
   "outputs": [
    {
     "name": "stdout",
     "output_type": "stream",
     "text": [
      "[[0 1 7 6]\n",
      " [9 2 4 5]\n",
      " [2 4 2 4]]\n"
     ]
    }
   ],
   "source": [
    "x6_copy=x6[:]\n",
    "print(x6_copy)"
   ]
  },
  {
   "cell_type": "code",
   "execution_count": 23,
   "id": "ae727e6e-cef8-4001-8149-dc6ee77a8023",
   "metadata": {},
   "outputs": [],
   "source": [
    "## 9.  продемонстрируйте использование newaxis для получения эффекта вектора-стобца и вектора-строки из массива"
   ]
  },
  {
   "cell_type": "code",
   "execution_count": 24,
   "id": "2bffbbc6-f83f-41f5-907d-0b5238878030",
   "metadata": {},
   "outputs": [
    {
     "data": {
      "text/plain": [
       "array([[0],\n",
       "       [1],\n",
       "       [2],\n",
       "       [3],\n",
       "       [4]])"
      ]
     },
     "execution_count": 24,
     "metadata": {},
     "output_type": "execute_result"
    }
   ],
   "source": [
    "x9=np.array([0,1,2,3,4])\n",
    "x9[:, np.newaxis]"
   ]
  },
  {
   "cell_type": "code",
   "execution_count": 25,
   "id": "f5de98b9-1f1b-4805-8223-f5f64dd2f36a",
   "metadata": {},
   "outputs": [
    {
     "data": {
      "text/plain": [
       "array([[0, 1, 2, 3, 4]])"
      ]
     },
     "execution_count": 25,
     "metadata": {},
     "output_type": "execute_result"
    }
   ],
   "source": [
    "x9[np.newaxis,:]"
   ]
  },
  {
   "cell_type": "code",
   "execution_count": 26,
   "id": "f643a323-1bce-47cf-b4c0-f6c52d0d6093",
   "metadata": {},
   "outputs": [
    {
     "name": "stdout",
     "output_type": "stream",
     "text": [
      "[[0 1 2 3 4]\n",
      " [5 6 7 8 9]]\n"
     ]
    },
    {
     "data": {
      "text/plain": [
       "array([[[0, 1, 2, 3, 4]],\n",
       "\n",
       "       [[5, 6, 7, 8, 9]]])"
      ]
     },
     "execution_count": 26,
     "metadata": {},
     "output_type": "execute_result"
    }
   ],
   "source": [
    "x91=np.array([[0,1,2,3,4],[5,6,7,8,9]])\n",
    "print(x91)\n",
    "x91[:, np.newaxis]"
   ]
  },
  {
   "cell_type": "code",
   "execution_count": 27,
   "id": "1382d7ec-c775-4a26-bc9f-adc1df78ce88",
   "metadata": {},
   "outputs": [
    {
     "data": {
      "text/plain": [
       "array([[[0, 1, 2, 3, 4],\n",
       "        [5, 6, 7, 8, 9]]])"
      ]
     },
     "execution_count": 27,
     "metadata": {},
     "output_type": "execute_result"
    }
   ],
   "source": [
    "x91[np.newaxis,:]"
   ]
  },
  {
   "cell_type": "code",
   "execution_count": 56,
   "id": "0f8dc515-3e50-4d95-a235-de6106b2ecf1",
   "metadata": {},
   "outputs": [],
   "source": [
    "##10. Разобратся как работает метод dstack \n",
    "# Укладывайте массивы последовательно по глубине (вдоль третьей оси)."
   ]
  },
  {
   "cell_type": "code",
   "execution_count": 58,
   "id": "ea05dcde-18f7-4126-963c-3b6072d43316",
   "metadata": {},
   "outputs": [
    {
     "data": {
      "text/plain": [
       "array([[[1, 2],\n",
       "        [2, 3],\n",
       "        [3, 4]]])"
      ]
     },
     "execution_count": 58,
     "metadata": {},
     "output_type": "execute_result"
    }
   ],
   "source": [
    "x10 = np.array((1,2,3))\n",
    "y10 = np.array((2,3,4))\n",
    "np.dstack((x10, y10))"
   ]
  },
  {
   "cell_type": "code",
   "execution_count": 60,
   "id": "471e5a32-f7d9-4d22-98ab-e4f306865b10",
   "metadata": {},
   "outputs": [
    {
     "data": {
      "text/plain": [
       "array([[[1, 2]],\n",
       "\n",
       "       [[2, 3]],\n",
       "\n",
       "       [[3, 4]]])"
      ]
     },
     "execution_count": 60,
     "metadata": {},
     "output_type": "execute_result"
    }
   ],
   "source": [
    "a = np.array([[1],[2],[3]])\n",
    "b = np.array([[2],[3],[4]])\n",
    "np.dstack((a,b))"
   ]
  },
  {
   "cell_type": "code",
   "execution_count": null,
   "id": "32506f5d-0fc0-4463-82f8-2e325d69266d",
   "metadata": {},
   "outputs": [],
   "source": [
    "##11. Разобратся как работает методы split, vsplit, dsplit"
   ]
  },
  {
   "cell_type": "code",
   "execution_count": null,
   "id": "0dcd731a-535a-4c0c-982f-75a9d8a834ec",
   "metadata": {},
   "outputs": [],
   "source": [
    "#numpy.split(ary, indices_or_sections, axis=0)\n",
    "#Разделите массив на несколько подмассивов в виде представлений в ary."
   ]
  },
  {
   "cell_type": "code",
   "execution_count": 64,
   "id": "dc9622da-3afe-4d8c-8f39-5052654a85ca",
   "metadata": {},
   "outputs": [
    {
     "name": "stdout",
     "output_type": "stream",
     "text": [
      "[0. 1. 2. 3. 4. 5. 6. 7. 8.]\n"
     ]
    },
    {
     "data": {
      "text/plain": [
       "[array([0., 1., 2.]), array([3., 4., 5.]), array([6., 7., 8.])]"
      ]
     },
     "execution_count": 64,
     "metadata": {},
     "output_type": "execute_result"
    }
   ],
   "source": [
    "import numpy as np\n",
    "x11 = np.arange(9.0)\n",
    "print(x11)\n",
    "np.split(x11, 3)"
   ]
  },
  {
   "cell_type": "code",
   "execution_count": 68,
   "id": "bfacb777-cee2-4d5d-97f4-885b8d7e5288",
   "metadata": {},
   "outputs": [
    {
     "name": "stdout",
     "output_type": "stream",
     "text": [
      "[0. 1. 2. 3. 4. 5. 6. 7.]\n"
     ]
    },
    {
     "data": {
      "text/plain": [
       "[array([0., 1., 2.]), array([3., 4.]), array([5., 6., 7.])]"
      ]
     },
     "execution_count": 68,
     "metadata": {},
     "output_type": "execute_result"
    }
   ],
   "source": [
    "x11 = np.arange(8.0)\n",
    "print(x11)\n",
    "np.split(x11, [3, 5])"
   ]
  },
  {
   "cell_type": "code",
   "execution_count": 72,
   "id": "3934b07a-57a5-4b11-9e5c-2a77da070e92",
   "metadata": {},
   "outputs": [
    {
     "name": "stdout",
     "output_type": "stream",
     "text": [
      "[0. 1. 2. 3. 4. 5. 6. 7.]\n"
     ]
    },
    {
     "data": {
      "text/plain": [
       "[array([0., 1.]), array([2., 3., 4.]), array([5.]), array([6., 7.])]"
      ]
     },
     "execution_count": 72,
     "metadata": {},
     "output_type": "execute_result"
    }
   ],
   "source": [
    "x11 = np.arange(8.0)\n",
    "print(x11)\n",
    "np.split(x11, [2, 5,6])"
   ]
  },
  {
   "cell_type": "code",
   "execution_count": null,
   "id": "52b0609c-8837-4c67-9a39-3e01cf132b6f",
   "metadata": {},
   "outputs": [],
   "source": [
    "#numpy.vsplit(ary, indices_or_sections)\n",
    "#Разделите массив на несколько подмассивов по вертикали (по строкам)."
   ]
  },
  {
   "cell_type": "code",
   "execution_count": 78,
   "id": "7ad54d75-7eb1-46d3-a4d8-cf4e6c2d9f1a",
   "metadata": {},
   "outputs": [
    {
     "name": "stdout",
     "output_type": "stream",
     "text": [
      "[[ 0.  1.  2.  3.]\n",
      " [ 4.  5.  6.  7.]\n",
      " [ 8.  9. 10. 11.]\n",
      " [12. 13. 14. 15.]]\n"
     ]
    },
    {
     "data": {
      "text/plain": [
       "[array([[0., 1., 2., 3.],\n",
       "        [4., 5., 6., 7.]]),\n",
       " array([[ 8.,  9., 10., 11.],\n",
       "        [12., 13., 14., 15.]])]"
      ]
     },
     "execution_count": 78,
     "metadata": {},
     "output_type": "execute_result"
    }
   ],
   "source": [
    "x = np.arange(16.0).reshape(4, 4)\n",
    "print(x)\n",
    "np.vsplit(x, 2)"
   ]
  },
  {
   "cell_type": "code",
   "execution_count": 94,
   "id": "a065f0ba-8051-4866-b6e5-1ac3a7616a3d",
   "metadata": {},
   "outputs": [
    {
     "name": "stdout",
     "output_type": "stream",
     "text": [
      "[[ 0.  1.  2.  3.  4.  5.  6.  7.]\n",
      " [ 8.  9. 10. 11. 12. 13. 14. 15.]]\n"
     ]
    },
    {
     "data": {
      "text/plain": [
       "[array([[ 0.,  1.,  2.,  3.,  4.,  5.,  6.,  7.],\n",
       "        [ 8.,  9., 10., 11., 12., 13., 14., 15.]]),\n",
       " array([], shape=(0, 8), dtype=float64),\n",
       " array([], shape=(0, 8), dtype=float64)]"
      ]
     },
     "execution_count": 94,
     "metadata": {},
     "output_type": "execute_result"
    }
   ],
   "source": [
    "x1 = np.arange(16.0).reshape(2, 8)\n",
    "print(x1)\n",
    "np.vsplit(x1, np.array([2, 2]))"
   ]
  },
  {
   "cell_type": "code",
   "execution_count": 86,
   "id": "de04e7ce-1cea-4652-a068-8b7bbf695df5",
   "metadata": {},
   "outputs": [
    {
     "data": {
      "text/plain": [
       "[array([[0., 1., 2., 3.],\n",
       "        [4., 5., 6., 7.]]),\n",
       " array([], shape=(0, 4), dtype=float64),\n",
       " array([[ 8.,  9., 10., 11.],\n",
       "        [12., 13., 14., 15.]])]"
      ]
     },
     "execution_count": 86,
     "metadata": {},
     "output_type": "execute_result"
    }
   ],
   "source": [
    "x = np.arange(16.0).reshape(4, 4)\n",
    "np.vsplit(x, np.array([2, 2]))"
   ]
  },
  {
   "cell_type": "code",
   "execution_count": 96,
   "id": "08be40ed-d2cb-478b-b42e-57842cf51caf",
   "metadata": {},
   "outputs": [
    {
     "data": {
      "text/plain": [
       "[array([[[0., 1.],\n",
       "         [2., 3.]]]),\n",
       " array([[[4., 5.],\n",
       "         [6., 7.]]])]"
      ]
     },
     "execution_count": 96,
     "metadata": {},
     "output_type": "execute_result"
    }
   ],
   "source": [
    "x = np.arange(8.0).reshape(2, 2, 2)\n",
    "np.vsplit(x, 2)"
   ]
  },
  {
   "cell_type": "code",
   "execution_count": null,
   "id": "8ecab299-422a-46aa-92c4-cb0e2bc6ebdc",
   "metadata": {},
   "outputs": [],
   "source": [
    "#numpy.dsplit(ary, indices_or_sections)\n",
    "#Split array into multiple sub-arrays along the 3rd axis (depth).\n",
    "#dsplit only works on arrays of 3 or more dimensions"
   ]
  },
  {
   "cell_type": "code",
   "execution_count": 100,
   "id": "90b50455-152e-4da6-bea0-a190566ef953",
   "metadata": {},
   "outputs": [
    {
     "name": "stdout",
     "output_type": "stream",
     "text": [
      "[[[0. 1.]\n",
      "  [2. 3.]]\n",
      "\n",
      " [[4. 5.]\n",
      "  [6. 7.]]]\n"
     ]
    },
    {
     "data": {
      "text/plain": [
       "[array([[[0.],\n",
       "         [2.]],\n",
       " \n",
       "        [[4.],\n",
       "         [6.]]]),\n",
       " array([[[1.],\n",
       "         [3.]],\n",
       " \n",
       "        [[5.],\n",
       "         [7.]]])]"
      ]
     },
     "execution_count": 100,
     "metadata": {},
     "output_type": "execute_result"
    }
   ],
   "source": [
    "x = np.arange(8.0).reshape(2, 2, 2)\n",
    "print(x)\n",
    "np.dsplit(x,2)"
   ]
  },
  {
   "cell_type": "code",
   "execution_count": null,
   "id": "d1c916e7-cfe5-4f43-9aff-ef0ef0c742d3",
   "metadata": {},
   "outputs": [],
   "source": [
    "##12. Привести пример использования всех универсальных функций - - / // ** % np.abs, sin/cos/tan... , exp, log"
   ]
  },
  {
   "cell_type": "code",
   "execution_count": 102,
   "id": "86ed6acc-cfbf-431d-b7e1-79dcc3500c03",
   "metadata": {},
   "outputs": [
    {
     "name": "stdout",
     "output_type": "stream",
     "text": [
      "[0 1 2 3 4 5 6 7 8 9]\n",
      "[0 0 1 1 2 2 3 3 4 4]\n"
     ]
    }
   ],
   "source": [
    "x6=np.arange(10)\n",
    "print (x6)\n",
    "print(x6//2)"
   ]
  },
  {
   "cell_type": "code",
   "execution_count": 106,
   "id": "e143a1dc-ade9-4016-9b5d-045763c2ced0",
   "metadata": {},
   "outputs": [
    {
     "name": "stdout",
     "output_type": "stream",
     "text": [
      "[0.  0.5 1.  1.5 2.  2.5 3.  3.5 4.  4.5]\n"
     ]
    }
   ],
   "source": [
    "print(x6/2)"
   ]
  },
  {
   "cell_type": "code",
   "execution_count": 108,
   "id": "389efd5a-fffa-4790-afb7-568bb3add7a6",
   "metadata": {},
   "outputs": [
    {
     "name": "stdout",
     "output_type": "stream",
     "text": [
      "[ 0  1  4  9 16 25 36 49 64 81]\n"
     ]
    }
   ],
   "source": [
    "print(x6**2)"
   ]
  },
  {
   "cell_type": "code",
   "execution_count": 110,
   "id": "ef255de9-0dad-4857-be20-745102eb1999",
   "metadata": {},
   "outputs": [
    {
     "name": "stdout",
     "output_type": "stream",
     "text": [
      "[0 1 2 3 0 1 2 3 0 1]\n"
     ]
    }
   ],
   "source": [
    "print(x6%4)"
   ]
  },
  {
   "cell_type": "code",
   "execution_count": 114,
   "id": "5ea41318-e7b1-4baa-9ed9-bea8be5a25ae",
   "metadata": {},
   "outputs": [
    {
     "name": "stdout",
     "output_type": "stream",
     "text": [
      "[-2.  -1.5 -1.  -0.5]\n"
     ]
    }
   ],
   "source": [
    "x=np.arange(-2, 0, 0.5)\n",
    "print(x)"
   ]
  },
  {
   "cell_type": "code",
   "execution_count": 116,
   "id": "13b03925-ebc7-4ff1-8142-d2c1dba3fc86",
   "metadata": {},
   "outputs": [
    {
     "name": "stdout",
     "output_type": "stream",
     "text": [
      "[2.  1.5 1.  0.5]\n"
     ]
    }
   ],
   "source": [
    "x=np.abs(x)\n",
    "print(x)"
   ]
  },
  {
   "cell_type": "code",
   "execution_count": 120,
   "id": "1e0549f6-5bc5-483e-85f3-40f0a7788dce",
   "metadata": {},
   "outputs": [
    {
     "name": "stdout",
     "output_type": "stream",
     "text": [
      "[0.         0.19866933 0.38941834 0.56464247 0.71735609]\n"
     ]
    }
   ],
   "source": [
    "x=np.arange(0,1,0.2)\n",
    "x=np.sin(x)\n",
    "print(x)"
   ]
  },
  {
   "cell_type": "code",
   "execution_count": 122,
   "id": "58e93228-061d-438a-a724-686177db604f",
   "metadata": {},
   "outputs": [
    {
     "name": "stdout",
     "output_type": "stream",
     "text": [
      "[0.         0.20271004 0.42279322 0.68413681 1.02963856]\n"
     ]
    }
   ],
   "source": [
    "x=np.arange(0,1,0.2)\n",
    "x=np.tan(x)\n",
    "print(x)"
   ]
  },
  {
   "cell_type": "code",
   "execution_count": 124,
   "id": "8d1eefcf-d2c8-4b22-9fdb-4c62028a0bfc",
   "metadata": {},
   "outputs": [
    {
     "name": "stdout",
     "output_type": "stream",
     "text": [
      "[1.         1.22140276 1.4918247  1.8221188  2.22554093]\n"
     ]
    }
   ],
   "source": [
    "x=np.arange(0,1,0.2)\n",
    "x=np.exp(x)\n",
    "print(x)"
   ]
  },
  {
   "cell_type": "code",
   "execution_count": 130,
   "id": "f7d24ec7-49fc-40f6-a467-0653108f14d2",
   "metadata": {},
   "outputs": [
    {
     "name": "stdout",
     "output_type": "stream",
     "text": [
      "[-1.60943791 -1.2039728  -0.91629073 -0.69314718 -0.51082562 -0.35667494\n",
      " -0.22314355 -0.10536052]\n"
     ]
    }
   ],
   "source": [
    "x=np.arange(0.2,1,0.1)\n",
    "x=np.log(x)\n",
    "print(x)"
   ]
  },
  {
   "cell_type": "code",
   "execution_count": null,
   "id": "6a07542e-529d-4002-a1a4-73bea75a15da",
   "metadata": {},
   "outputs": [],
   "source": []
  }
 ],
 "metadata": {
  "kernelspec": {
   "display_name": "Python 3 (ipykernel)",
   "language": "python",
   "name": "python3"
  },
  "language_info": {
   "codemirror_mode": {
    "name": "ipython",
    "version": 3
   },
   "file_extension": ".py",
   "mimetype": "text/x-python",
   "name": "python",
   "nbconvert_exporter": "python",
   "pygments_lexer": "ipython3",
   "version": "3.12.7"
  }
 },
 "nbformat": 4,
 "nbformat_minor": 5
}
