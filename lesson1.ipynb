{
 "cells": [
  {
   "cell_type": "code",
   "execution_count": 1,
   "id": "c2968509-5d19-4e54-ad73-18656d146d7a",
   "metadata": {},
   "outputs": [
    {
     "name": "stdout",
     "output_type": "stream",
     "text": [
      "<class 'int'>\n"
     ]
    }
   ],
   "source": [
    "import array\n",
    "import sys\n",
    "import numpy as np\n",
    "\n",
    "#Типы данных питона\n",
    "x = 1\n",
    "print (type(x))"
   ]
  },
  {
   "cell_type": "code",
   "execution_count": 2,
   "id": "577e6cf2-0447-49eb-a328-e11802e9da66",
   "metadata": {},
   "outputs": [
    {
     "name": "stdout",
     "output_type": "stream",
     "text": [
      "28\n"
     ]
    }
   ],
   "source": [
    "import sys\n",
    "print (sys.getsizeof(x))\n"
   ]
  },
  {
   "cell_type": "code",
   "execution_count": 3,
   "id": "c3b6e634-6c83-4099-9184-7c5c265a9f08",
   "metadata": {},
   "outputs": [
    {
     "name": "stdout",
     "output_type": "stream",
     "text": [
      "88\n"
     ]
    }
   ],
   "source": [
    "l2=list([1,2,3])\n",
    "print (sys.getsizeof(l2))"
   ]
  },
  {
   "cell_type": "code",
   "execution_count": 4,
   "id": "f097e5e0-768f-409e-9e71-88d95a5b1ce0",
   "metadata": {},
   "outputs": [
    {
     "name": "stdout",
     "output_type": "stream",
     "text": [
      "[1, '2', True]\n"
     ]
    }
   ],
   "source": [
    "l3=list([1, \"2\", True])\n",
    "print(l3)"
   ]
  },
  {
   "cell_type": "code",
   "execution_count": 5,
   "id": "7c826183-f080-4f6c-ab05-03b4fca2dffc",
   "metadata": {},
   "outputs": [
    {
     "name": "stdout",
     "output_type": "stream",
     "text": [
      "92\n"
     ]
    }
   ],
   "source": [
    "a1 = array.array('i',[1,2,3])\n",
    "print (sys.getsizeof(a1))"
   ]
  },
  {
   "cell_type": "code",
   "execution_count": 6,
   "id": "0cfa9f56-735e-486a-a5e2-90e06b5b317a",
   "metadata": {},
   "outputs": [],
   "source": [
    "# какие еще существуют коды типов?\n",
    "# напишите код, подобный приведенному выше, но с другим типом"
   ]
  },
  {
   "cell_type": "code",
   "execution_count": 7,
   "id": "9f5ba3fd-dab8-4b1f-97f8-5c31f8f0bff6",
   "metadata": {},
   "outputs": [
    {
     "name": "stdout",
     "output_type": "stream",
     "text": [
      "<class 'numpy.ndarray'> [1 2 3 4 5]\n"
     ]
    }
   ],
   "source": [
    "a=np.array([1,2,3,4,5])\n",
    "print (type(a),a)"
   ]
  },
  {
   "cell_type": "code",
   "execution_count": 8,
   "id": "047306ed-7ad8-4718-bf3c-5725f235c4bd",
   "metadata": {},
   "outputs": [
    {
     "name": "stdout",
     "output_type": "stream",
     "text": [
      "<class 'numpy.ndarray'> [1 2 3 4 5]\n"
     ]
    }
   ],
   "source": [
    "a=np.array([1.23,2,3,4,5], dtype=int)\n",
    "print (type(a),a)"
   ]
  },
  {
   "cell_type": "code",
   "execution_count": 9,
   "id": "66364091-4f6a-42a8-ba5e-e0fbfa2a1f49",
   "metadata": {},
   "outputs": [
    {
     "name": "stdout",
     "output_type": "stream",
     "text": [
      "[[2 3 4]\n",
      " [4 5 6]\n",
      " [6 7 8]] <class 'numpy.ndarray'>\n"
     ]
    }
   ],
   "source": [
    "a=np.array([range(i, i+3) for i in [2,4,6]])\n",
    "print(a, type(a))"
   ]
  },
  {
   "cell_type": "code",
   "execution_count": 10,
   "id": "b03999ab-9044-4e80-94d2-9e9e3cad1e0f",
   "metadata": {},
   "outputs": [
    {
     "name": "stdout",
     "output_type": "stream",
     "text": [
      "[0 0 0 0 0 0 0 0 0 0] <class 'numpy.ndarray'>\n"
     ]
    }
   ],
   "source": [
    "b1=np.zeros(10, dtype=int)\n",
    "print (b1, type(b1))"
   ]
  },
  {
   "cell_type": "code",
   "execution_count": 11,
   "id": "7dc18b57-a1e2-48c9-b76f-4f0998e790ff",
   "metadata": {},
   "outputs": [
    {
     "name": "stdout",
     "output_type": "stream",
     "text": [
      "[[1. 1. 1. 1. 1.]\n",
      " [1. 1. 1. 1. 1.]\n",
      " [1. 1. 1. 1. 1.]]\n"
     ]
    }
   ],
   "source": [
    "print (np.ones((3,5), dtype=float))"
   ]
  },
  {
   "cell_type": "code",
   "execution_count": 12,
   "id": "a4f2964b-7e4a-48a6-8b0f-ef35825fa992",
   "metadata": {},
   "outputs": [
    {
     "name": "stdout",
     "output_type": "stream",
     "text": [
      "[[3.1415 3.1415 3.1415 3.1415 3.1415]\n",
      " [3.1415 3.1415 3.1415 3.1415 3.1415]\n",
      " [3.1415 3.1415 3.1415 3.1415 3.1415]\n",
      " [3.1415 3.1415 3.1415 3.1415 3.1415]]\n"
     ]
    }
   ],
   "source": [
    "print (np.full((4,5), 3.1415))"
   ]
  },
  {
   "cell_type": "code",
   "execution_count": 13,
   "id": "a2153446-5808-4dcb-9775-3b38b3738dbf",
   "metadata": {},
   "outputs": [
    {
     "name": "stdout",
     "output_type": "stream",
     "text": [
      "[ 0  2  4  6  8 10 12 14 16 18]\n"
     ]
    }
   ],
   "source": [
    "print (np.arange(0, 20, 2))"
   ]
  },
  {
   "cell_type": "code",
   "execution_count": 14,
   "id": "915db54f-37f8-4320-aa86-d8d71a3ae6a0",
   "metadata": {},
   "outputs": [
    {
     "name": "stdout",
     "output_type": "stream",
     "text": [
      "[[1. 0. 0. 0.]\n",
      " [0. 1. 0. 0.]\n",
      " [0. 0. 1. 0.]\n",
      " [0. 0. 0. 1.]]\n"
     ]
    }
   ],
   "source": [
    "print (np.eye(4))"
   ]
  },
  {
   "cell_type": "code",
   "execution_count": 15,
   "id": "67c8feaf-f23a-4368-9b4e-8bd300d488d3",
   "metadata": {},
   "outputs": [],
   "source": [
    "##3. напишите код для создания массива с 5 значениями, распологающимися через равные интервалы\n",
    "##в диапазоне от 0 до 1 \n",
    "##4. напишите код для создания массива с 5 равномерно распределенными случайными значениями\n",
    "##в диапазоне от 0 до 1\n",
    "##5. напишите код для создания массива с 5 нормально распределенными случайными значениями\n",
    "##с мат. ожиданием =0 и дисперсией 1\n",
    "##6. Напишите код для создания массива с 5 случайными целыми числами от [0,10)"
   ]
  },
  {
   "cell_type": "code",
   "execution_count": 16,
   "id": "23314c59-a9a0-48db-a7cb-f25fc7a52861",
   "metadata": {},
   "outputs": [],
   "source": [
    "###МАССИВЫ"
   ]
  },
  {
   "cell_type": "code",
   "execution_count": 17,
   "id": "3bc14307-d950-439a-ae1d-d1d039b72c25",
   "metadata": {},
   "outputs": [
    {
     "name": "stdout",
     "output_type": "stream",
     "text": [
      "[5 8 9]\n"
     ]
    }
   ],
   "source": [
    "np.random.seed(1) #установка начального значения, уникальная подборка рандомных чисел\n",
    "x1 = np.random.randint(10, size=3)\n",
    "print(x1)"
   ]
  },
  {
   "cell_type": "code",
   "execution_count": 18,
   "id": "173dfc01-9063-4473-9eca-841408d558de",
   "metadata": {},
   "outputs": [
    {
     "name": "stdout",
     "output_type": "stream",
     "text": [
      "[[5 0]\n",
      " [0 1]\n",
      " [7 6]]\n"
     ]
    }
   ],
   "source": [
    "x2=np.random.randint(10, size=(3,2))\n",
    "print(x2)"
   ]
  },
  {
   "cell_type": "code",
   "execution_count": 19,
   "id": "318e4992-dc96-4395-88ca-d519bfe2ea9c",
   "metadata": {},
   "outputs": [
    {
     "name": "stdout",
     "output_type": "stream",
     "text": [
      "[[[9]\n",
      "  [2]]\n",
      "\n",
      " [[4]\n",
      "  [5]]\n",
      "\n",
      " [[2]\n",
      "  [4]]]\n"
     ]
    }
   ],
   "source": [
    "x3=np.random.randint(10, size=(3,2,1))\n",
    "print(x3)"
   ]
  },
  {
   "cell_type": "code",
   "execution_count": 20,
   "id": "7589cdff-437b-43f1-bb62-f5cfc4711597",
   "metadata": {},
   "outputs": [
    {
     "name": "stdout",
     "output_type": "stream",
     "text": [
      "1 (3,) 3\n",
      "2 (3, 2) 6\n",
      "3 (3, 2, 1) 6\n"
     ]
    }
   ],
   "source": [
    "print(x1.ndim, x1.shape, x1.size)\n",
    "print(x2.ndim, x2.shape, x2.size)\n",
    "print(x3.ndim, x3.shape, x3.size)"
   ]
  },
  {
   "cell_type": "code",
   "execution_count": 21,
   "id": "1a47d269-a6a4-4e47-beb0-9f8eb974b1bb",
   "metadata": {},
   "outputs": [
    {
     "name": "stdout",
     "output_type": "stream",
     "text": [
      "1\n"
     ]
    }
   ],
   "source": [
    "ar = np.array([1,2,3,4,5])\n",
    "print(ar[0])"
   ]
  },
  {
   "cell_type": "code",
   "execution_count": 22,
   "id": "a2c22a0e-95f5-42d0-aec0-89c1c903161e",
   "metadata": {},
   "outputs": [
    {
     "name": "stdout",
     "output_type": "stream",
     "text": [
      "4\n"
     ]
    }
   ],
   "source": [
    "print(ar[-2])"
   ]
  },
  {
   "cell_type": "code",
   "execution_count": 23,
   "id": "b5e27cbc-98dd-4151-b1fb-e4c0d7942a08",
   "metadata": {},
   "outputs": [
    {
     "name": "stdout",
     "output_type": "stream",
     "text": [
      "[ 1 20  3  4  5]\n"
     ]
    }
   ],
   "source": [
    "ar[1]=20\n",
    "print(ar)"
   ]
  },
  {
   "cell_type": "code",
   "execution_count": 24,
   "id": "dea30f09-7e33-4501-8743-83462c90330b",
   "metadata": {},
   "outputs": [
    {
     "name": "stdout",
     "output_type": "stream",
     "text": [
      "[[1 2]\n",
      " [3 4]]\n",
      "1\n",
      "4\n",
      "[[  1   2]\n",
      " [100   4]]\n"
     ]
    }
   ],
   "source": [
    "ar1 = np.array([[1,2], [3,4]])\n",
    "print(ar1)\n",
    "\n",
    "print(ar1[0,0])\n",
    "print(ar1[-1,-1])\n",
    "\n",
    "ar1[1,0]=100\n",
    "print(ar1)"
   ]
  },
  {
   "cell_type": "code",
   "execution_count": 25,
   "id": "1adb9d08-aa21-4219-af96-b2d7a7e7dc73",
   "metadata": {},
   "outputs": [
    {
     "name": "stdout",
     "output_type": "stream",
     "text": [
      "[1 2 3 4]\n",
      "[1. 2. 3. 4.]\n"
     ]
    }
   ],
   "source": [
    "a3 = np.array([1,2,3,4])\n",
    "b3=np.array([1.0,2,3,4])\n",
    "\n",
    "print(a3)\n",
    "print(b3)"
   ]
  },
  {
   "cell_type": "code",
   "execution_count": 26,
   "id": "972b1d3d-6c53-4c0c-893f-7ecc516e8ba0",
   "metadata": {},
   "outputs": [
    {
     "name": "stdout",
     "output_type": "stream",
     "text": [
      "[10  2  3  4]\n"
     ]
    }
   ],
   "source": [
    "a3[0]=10\n",
    "print(a3)"
   ]
  },
  {
   "cell_type": "code",
   "execution_count": 27,
   "id": "bd3159f0-82a2-49ca-9148-63ead6577a99",
   "metadata": {},
   "outputs": [
    {
     "name": "stdout",
     "output_type": "stream",
     "text": [
      "[10  2  3  4]\n"
     ]
    }
   ],
   "source": [
    "a3[0]=10.123 ##тип данных не будет меняться из-за изначально созданного массива с типом данных int\n",
    "print(a3)"
   ]
  },
  {
   "cell_type": "code",
   "execution_count": 28,
   "id": "3f231e52-c496-4c79-bc3d-db620db3c3fb",
   "metadata": {},
   "outputs": [],
   "source": [
    "##СРЕЗ (ПОДМАССИВ) [start:finish:step] [0:shape:1]"
   ]
  },
  {
   "cell_type": "code",
   "execution_count": 29,
   "id": "4ee0cf9e-bbb9-408f-a1ab-c72f049097fb",
   "metadata": {},
   "outputs": [
    {
     "name": "stdout",
     "output_type": "stream",
     "text": [
      "[1 2 3]\n"
     ]
    }
   ],
   "source": [
    "a4 = np.array([1,2,3,4,5,6])\n",
    "print(a4[0:3:1])"
   ]
  },
  {
   "cell_type": "code",
   "execution_count": 30,
   "id": "2751171a-276b-472d-8f12-deea2f0df556",
   "metadata": {},
   "outputs": [
    {
     "name": "stdout",
     "output_type": "stream",
     "text": [
      "[1 2 3]\n"
     ]
    }
   ],
   "source": [
    "print(a4[:3])##index<2"
   ]
  },
  {
   "cell_type": "code",
   "execution_count": 31,
   "id": "cc642912-32d8-45e9-904c-d6babe77ecbe",
   "metadata": {},
   "outputs": [
    {
     "name": "stdout",
     "output_type": "stream",
     "text": [
      "[4 5 6]\n"
     ]
    }
   ],
   "source": [
    "print(a4[3:]) ##index>2"
   ]
  },
  {
   "cell_type": "code",
   "execution_count": 32,
   "id": "3d412fa9-e399-499b-b6e1-02eaae9e4f61",
   "metadata": {},
   "outputs": [
    {
     "name": "stdout",
     "output_type": "stream",
     "text": [
      "[2 3 4 5]\n",
      "[2 4 6]\n"
     ]
    }
   ],
   "source": [
    "print(a4[1:-1])\n",
    "print(a4[1::2]) "
   ]
  },
  {
   "cell_type": "code",
   "execution_count": 33,
   "id": "388e3cb0-0582-44f7-8402-656a5171fcb1",
   "metadata": {},
   "outputs": [
    {
     "name": "stdout",
     "output_type": "stream",
     "text": [
      "[6 5 4 3 2 1]\n"
     ]
    }
   ],
   "source": [
    "print(a4[::-1])"
   ]
  },
  {
   "cell_type": "code",
   "execution_count": 34,
   "id": "fb2c14e5-f9a9-4f00-9e2b-4cb549e9778e",
   "metadata": {},
   "outputs": [
    {
     "name": "stdout",
     "output_type": "stream",
     "text": [
      "[1 2 3]\n",
      "[100   2   3   4   5   6]\n"
     ]
    }
   ],
   "source": [
    "d = a4[:3]\n",
    "print(d)\n",
    "d[0]=100\n",
    "print(a4)"
   ]
  },
  {
   "cell_type": "code",
   "execution_count": 35,
   "id": "5b69cfc7-9d77-4c27-9c45-7cb78bb72c7b",
   "metadata": {},
   "outputs": [],
   "source": [
    "##7. Написать код для создания срезов массива 3 на 4 \n",
    "#- первые две строки и три столбца\n",
    "#-первые три строки и второй столбец\n",
    "#- все строки и столбцы в обратном порядке\n",
    "#-второй столбец\n",
    "#-третья строка\n",
    "\n",
    "## 8. Продемонстрируйте как сделать срез-копию "
   ]
  },
  {
   "cell_type": "code",
   "execution_count": 36,
   "id": "17974e70-bb8b-4391-bd43-3406177dd915",
   "metadata": {},
   "outputs": [
    {
     "name": "stdout",
     "output_type": "stream",
     "text": [
      "[ 1  2  3  4  5  6  7  8  9 10 11 12]\n",
      "[[ 1  2  3  4  5  6]\n",
      " [ 7  8  9 10 11 12]]\n",
      "[[ 1  2  3  4]\n",
      " [ 5  6  7  8]\n",
      " [ 9 10 11 12]]\n"
     ]
    }
   ],
   "source": [
    "a5=np.arange(1,13)\n",
    "print(a5)\n",
    "print(a5.reshape(2,6))\n",
    "print(a5.reshape(3,4))"
   ]
  },
  {
   "cell_type": "code",
   "execution_count": 37,
   "id": "c366f19a-a05e-4bca-ad47-decb23e85949",
   "metadata": {},
   "outputs": [],
   "source": [
    "## 9. newaxis продемонстрируйте использование для получения эффекта вектора-стобца и вектора-строки из массива\n"
   ]
  },
  {
   "cell_type": "code",
   "execution_count": 38,
   "id": "937700c5-1b74-4998-a791-67acd2aa8069",
   "metadata": {},
   "outputs": [
    {
     "name": "stdout",
     "output_type": "stream",
     "text": [
      "[1 2 3 4 5 6]\n"
     ]
    }
   ],
   "source": [
    "x = np.array([1,2,3])\n",
    "y = np.array([4,5])\n",
    "z = np.array([6])\n",
    "\n",
    "print(np.concatenate([x,y,z]))"
   ]
  },
  {
   "cell_type": "code",
   "execution_count": 39,
   "id": "849e3834-6a4b-4946-aca8-4730a435d832",
   "metadata": {},
   "outputs": [
    {
     "name": "stdout",
     "output_type": "stream",
     "text": [
      "[[1 2 3]\n",
      " [4 5 6]]\n"
     ]
    }
   ],
   "source": [
    "x2 = np.array([1,2,3])\n",
    "y2 = np.array([4,5,6])\n",
    "\n",
    "r2 = np.vstack([x2,y2])\n",
    "print(r2)"
   ]
  },
  {
   "cell_type": "code",
   "execution_count": 40,
   "id": "49bbc769-4898-4b9a-b094-d7d8f02cd49a",
   "metadata": {},
   "outputs": [
    {
     "name": "stdout",
     "output_type": "stream",
     "text": [
      "[[1 2 3 1 2 3]\n",
      " [4 5 6 4 5 6]]\n"
     ]
    }
   ],
   "source": [
    "print(np.hstack([r2,r2]))"
   ]
  },
  {
   "cell_type": "code",
   "execution_count": 41,
   "id": "25f2660a-9d1e-4c94-982a-5ca7b6480b65",
   "metadata": {},
   "outputs": [],
   "source": [
    "##10. Разобратся как работает метод dstack \n",
    "##11. Разобратся как работает методы split, vsplit, dsplit"
   ]
  },
  {
   "cell_type": "code",
   "execution_count": 42,
   "id": "b6713c13-9222-4273-8e95-ae1cb71c8bc5",
   "metadata": {},
   "outputs": [],
   "source": [
    "##ВЫЧИСЛЕНИЯ С МАССИВАМИ"
   ]
  },
  {
   "cell_type": "code",
   "execution_count": 43,
   "id": "98ec4488-1279-4c73-8137-9a9301f83698",
   "metadata": {},
   "outputs": [],
   "source": [
    "#ВЕКТОРИЗИРОВАННАЯ ОПЕРАЦИЯ- независимо к каждому элементу"
   ]
  },
  {
   "cell_type": "code",
   "execution_count": 44,
   "id": "e8bb6c63-08a6-40f3-92bb-98c8a35cdc03",
   "metadata": {},
   "outputs": [
    {
     "name": "stdout",
     "output_type": "stream",
     "text": [
      "[0 1 2 3 4 5 6 7 8 9]\n",
      "[ 1  3  5  7  9 11 13 15 17 19]\n"
     ]
    }
   ],
   "source": [
    "x6=np.arange(10)\n",
    "print (x6)\n",
    "\n",
    "print(x6*2 + 1)"
   ]
  },
  {
   "cell_type": "code",
   "execution_count": 45,
   "id": "ee869a98-5d50-4d0a-aa49-0831bd60ab7d",
   "metadata": {},
   "outputs": [],
   "source": [
    "#Универсальные функции"
   ]
  },
  {
   "cell_type": "code",
   "execution_count": 46,
   "id": "bb0c9d31-e197-42ff-a405-fa7d56aca271",
   "metadata": {},
   "outputs": [
    {
     "name": "stdout",
     "output_type": "stream",
     "text": [
      "[ 1  3  5  7  9 11 13 15 17 19]\n"
     ]
    }
   ],
   "source": [
    "print (np.add(np.multiply(x6,2),1))"
   ]
  },
  {
   "cell_type": "code",
   "execution_count": 47,
   "id": "c00047d4-c752-46e8-bd84-c9b54d7a5d9b",
   "metadata": {},
   "outputs": [],
   "source": [
    "# - - / // ** %"
   ]
  },
  {
   "cell_type": "code",
   "execution_count": 48,
   "id": "56e33917-c76c-42a6-8d6f-8590f970ac30",
   "metadata": {},
   "outputs": [],
   "source": [
    "##12. Привести пример использования всех универсальных функций, которые я привел\n",
    "## np.abs, sin/cos/tan... , exp, log, "
   ]
  },
  {
   "cell_type": "code",
   "execution_count": 49,
   "id": "6f2b55d9-4e84-4a04-b2ee-c5cfecae4f3f",
   "metadata": {},
   "outputs": [
    {
     "name": "stdout",
     "output_type": "stream",
     "text": [
      "[ 0 10 20 30 40]\n",
      "[0 1 2 3 4]\n"
     ]
    }
   ],
   "source": [
    "x7 = np.arange(5)\n",
    "print(np.multiply(x7,10))\n",
    "print(x7)"
   ]
  },
  {
   "cell_type": "code",
   "execution_count": 50,
   "id": "b86dfc33-2f41-4b27-8d71-bc6154c06c5e",
   "metadata": {},
   "outputs": [
    {
     "name": "stdout",
     "output_type": "stream",
     "text": [
      "[ 0. 10. 20. 30. 40.]\n",
      "[ 0. 10. 20. 30. 40.]\n"
     ]
    }
   ],
   "source": [
    "x8 = np.arange(5)\n",
    "y8= np.empty(5)\n",
    "print(np.multiply(x7,10, out =y8))\n",
    "print(y8)"
   ]
  },
  {
   "cell_type": "code",
   "execution_count": 51,
   "id": "76aa77f3-f747-461e-8f01-2481fa84e213",
   "metadata": {},
   "outputs": [
    {
     "name": "stdout",
     "output_type": "stream",
     "text": [
      "[ 0. 10. 20. 30. 40.]\n",
      "[ 0.  0. 10.  0. 20.  0. 30.  0. 40.  0.]\n"
     ]
    }
   ],
   "source": [
    "x8 = np.arange(5)\n",
    "y8= np.zeros(10)\n",
    "print(np.multiply(x7,10, out =y8[::2]))\n",
    "print(y8)"
   ]
  },
  {
   "cell_type": "code",
   "execution_count": 52,
   "id": "fcc35c25-14e4-400a-84f2-f0c00ae41fad",
   "metadata": {},
   "outputs": [
    {
     "name": "stdout",
     "output_type": "stream",
     "text": [
      "[1 2 3 4]\n",
      "10\n",
      "[ 1  3  6 10]\n"
     ]
    }
   ],
   "source": [
    "x9 = np.arange(1,5)\n",
    "print(x9)\n",
    "print(np.add.reduce(x9))\n",
    "print(np.add.accumulate(x9))"
   ]
  },
  {
   "cell_type": "code",
   "execution_count": 53,
   "id": "c812bd52-d67e-4843-bf36-d8eb889e6ec6",
   "metadata": {},
   "outputs": [],
   "source": [
    "## векторные произведение"
   ]
  },
  {
   "cell_type": "code",
   "execution_count": 54,
   "id": "4d146377-b5f1-4a47-b584-9a16e9f4430e",
   "metadata": {},
   "outputs": [
    {
     "name": "stdout",
     "output_type": "stream",
     "text": [
      "[[ 2  3  4  5  6  7  8  9 10]\n",
      " [ 3  4  5  6  7  8  9 10 11]\n",
      " [ 4  5  6  7  8  9 10 11 12]\n",
      " [ 5  6  7  8  9 10 11 12 13]\n",
      " [ 6  7  8  9 10 11 12 13 14]\n",
      " [ 7  8  9 10 11 12 13 14 15]\n",
      " [ 8  9 10 11 12 13 14 15 16]\n",
      " [ 9 10 11 12 13 14 15 16 17]\n",
      " [10 11 12 13 14 15 16 17 18]]\n"
     ]
    }
   ],
   "source": [
    "x10=np.arange(1,10)\n",
    "print(np.add.outer(x10,x10))"
   ]
  },
  {
   "cell_type": "code",
   "execution_count": 55,
   "id": "94ec24c2-b177-477b-a458-7c98a1bef132",
   "metadata": {},
   "outputs": [
    {
     "name": "stdout",
     "output_type": "stream",
     "text": [
      "[[ 1  2  3  4  5  6  7  8  9]\n",
      " [ 2  4  6  8 10 12 14 16 18]\n",
      " [ 3  6  9 12 15 18 21 24 27]\n",
      " [ 4  8 12 16 20 24 28 32 36]\n",
      " [ 5 10 15 20 25 30 35 40 45]\n",
      " [ 6 12 18 24 30 36 42 48 54]\n",
      " [ 7 14 21 28 35 42 49 56 63]\n",
      " [ 8 16 24 32 40 48 56 64 72]\n",
      " [ 9 18 27 36 45 54 63 72 81]]\n"
     ]
    }
   ],
   "source": [
    "print(np.multiply.outer(x10,x10))"
   ]
  },
  {
   "cell_type": "code",
   "execution_count": null,
   "id": "fe9c18c9-ed78-452b-9bcc-cec0a57f28e3",
   "metadata": {},
   "outputs": [],
   "source": []
  }
 ],
 "metadata": {
  "kernelspec": {
   "display_name": "Python 3 (ipykernel)",
   "language": "python",
   "name": "python3"
  },
  "language_info": {
   "codemirror_mode": {
    "name": "ipython",
    "version": 3
   },
   "file_extension": ".py",
   "mimetype": "text/x-python",
   "name": "python",
   "nbconvert_exporter": "python",
   "pygments_lexer": "ipython3",
   "version": "3.12.7"
  }
 },
 "nbformat": 4,
 "nbformat_minor": 5
}
