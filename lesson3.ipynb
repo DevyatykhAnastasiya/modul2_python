{
 "cells": [
  {
   "cell_type": "code",
   "execution_count": 1,
   "id": "ee4bf913-3c81-4abf-ace0-3ced3b760cd2",
   "metadata": {},
   "outputs": [],
   "source": [
    "import numpy as np\n",
    "import pandas as pd\n"
   ]
  },
  {
   "cell_type": "code",
   "execution_count": 3,
   "id": "1970ca74-67a8-4de8-ac2f-64e4e434018e",
   "metadata": {},
   "outputs": [],
   "source": [
    "#Pandas - расширение NumPy (структурированные массивы). Строки и столбцы индексируются метками,\n",
    "# а не только числовыми значениями\n",
    "#Series, DataFrame, Index\n",
    "#"
   ]
  },
  {
   "cell_type": "code",
   "execution_count": 5,
   "id": "b69427b2-d568-4858-9b0c-120abaee7724",
   "metadata": {},
   "outputs": [],
   "source": [
    "## Seried"
   ]
  },
  {
   "cell_type": "code",
   "execution_count": 7,
   "id": "d17a0ca4-44bc-4411-a029-057f6ef03e71",
   "metadata": {},
   "outputs": [
    {
     "name": "stdout",
     "output_type": "stream",
     "text": [
      "0    0.25\n",
      "1    0.50\n",
      "2    0.75\n",
      "3    1.00\n",
      "dtype: float64\n"
     ]
    }
   ],
   "source": [
    "data = pd.Series([0.25, 0.5, 0.75, 1.0])\n",
    "print (data)"
   ]
  },
  {
   "cell_type": "code",
   "execution_count": 11,
   "id": "f5838da0-c75e-415e-b076-0b2f7e9cfadc",
   "metadata": {},
   "outputs": [
    {
     "name": "stdout",
     "output_type": "stream",
     "text": [
      "<class 'pandas.core.series.Series'>\n"
     ]
    }
   ],
   "source": [
    "print(type(data))"
   ]
  },
  {
   "cell_type": "code",
   "execution_count": 15,
   "id": "e3d9a673-6cc1-4001-b5ae-87e83c6254c7",
   "metadata": {},
   "outputs": [
    {
     "name": "stdout",
     "output_type": "stream",
     "text": [
      "[0.25 0.5  0.75 1.  ]\n",
      "<class 'numpy.ndarray'>\n",
      "RangeIndex(start=0, stop=4, step=1)\n",
      "<class 'pandas.core.indexes.range.RangeIndex'>\n"
     ]
    }
   ],
   "source": [
    "print(data.values)\n",
    "print(type(data.values))\n",
    "\n",
    "print(data.index)\n",
    "print(type(data.index))"
   ]
  },
  {
   "cell_type": "code",
   "execution_count": 17,
   "id": "45c83b8e-923f-41cc-bda3-fa3911587a5b",
   "metadata": {},
   "outputs": [
    {
     "name": "stdout",
     "output_type": "stream",
     "text": [
      "0.25\n"
     ]
    }
   ],
   "source": [
    "print (data[0])"
   ]
  },
  {
   "cell_type": "code",
   "execution_count": 19,
   "id": "9e62aedc-7404-432f-ab45-9f59547cca7a",
   "metadata": {},
   "outputs": [
    {
     "name": "stdout",
     "output_type": "stream",
     "text": [
      "1    0.50\n",
      "2    0.75\n",
      "dtype: float64\n"
     ]
    }
   ],
   "source": [
    "print(data[1:3])"
   ]
  },
  {
   "cell_type": "code",
   "execution_count": 21,
   "id": "df6e35dd-b123-4a2d-8174-c6064e8a646d",
   "metadata": {},
   "outputs": [
    {
     "name": "stdout",
     "output_type": "stream",
     "text": [
      "a    0.25\n",
      "b    0.50\n",
      "c    0.75\n",
      "d    1.00\n",
      "dtype: float64\n",
      "0.25\n",
      "b    0.50\n",
      "c    0.75\n",
      "d    1.00\n",
      "dtype: float64\n"
     ]
    }
   ],
   "source": [
    "data = pd.Series([0.25, 0.5, 0.75, 1.0], index=['a','b','c', 'd'])\n",
    "print(data)\n",
    "print(data['a'])\n",
    "print(data['b':'d'])"
   ]
  },
  {
   "cell_type": "code",
   "execution_count": 23,
   "id": "9eb52090-629a-4c7e-bc1a-f46b986ab9aa",
   "metadata": {},
   "outputs": [
    {
     "name": "stdout",
     "output_type": "stream",
     "text": [
      "<class 'pandas.core.indexes.base.Index'>\n"
     ]
    }
   ],
   "source": [
    "print(type(data.index))"
   ]
  },
  {
   "cell_type": "code",
   "execution_count": 25,
   "id": "b51b8e42-3a40-4390-b6a4-ab3c5402d654",
   "metadata": {},
   "outputs": [],
   "source": [
    "data = pd.Series([0.25, 0.5, 0.75, 1.0], index=[1,10,7, 'd'])"
   ]
  },
  {
   "cell_type": "code",
   "execution_count": 27,
   "id": "e3df65b7-8b42-4d03-8e86-67a34b66e3fd",
   "metadata": {},
   "outputs": [
    {
     "name": "stdout",
     "output_type": "stream",
     "text": [
      "0.25\n",
      "10    0.50\n",
      "7     0.75\n",
      "d     1.00\n",
      "dtype: float64\n"
     ]
    }
   ],
   "source": [
    "print(data[1])\n",
    "print(data[10:'d'])"
   ]
  },
  {
   "cell_type": "code",
   "execution_count": 29,
   "id": "07d16bbd-6fbc-4596-a9bc-957d9ed36916",
   "metadata": {},
   "outputs": [
    {
     "name": "stdout",
     "output_type": "stream",
     "text": [
      "city_1    1001\n",
      "city_2    1002\n",
      "city_3    1003\n",
      "city_4    1004\n",
      "city_5    1005\n",
      "dtype: int64\n"
     ]
    }
   ],
   "source": [
    "population_dict = {\n",
    "    'city_1' : 1001,\n",
    "    'city_2' : 1002,\n",
    "    'city_3' : 1003,\n",
    "    'city_4' : 1004,\n",
    "    'city_5' : 1005,\n",
    "}\n",
    "population = pd.Series(population_dict)\n",
    "print(population)"
   ]
  },
  {
   "cell_type": "code",
   "execution_count": 37,
   "id": "9acc96fe-a775-48fa-9c17-c6e7c59607d0",
   "metadata": {},
   "outputs": [
    {
     "name": "stdout",
     "output_type": "stream",
     "text": [
      "1004\n",
      "city_4    1004\n",
      "city_5    1005\n",
      "dtype: int64\n"
     ]
    }
   ],
   "source": [
    "print (population['city_4'])\n",
    "print (population['city_4':'city_5'])      "
   ]
  },
  {
   "cell_type": "code",
   "execution_count": null,
   "id": "348d355f-2c55-4ade-965b-875825d297da",
   "metadata": {},
   "outputs": [],
   "source": [
    "## Для создания Series можно использовать\n",
    "#-списки Python или массивы NumPy\n",
    "#-скалярные значение\n",
    "#-словари\n",
    "# 1. Привести различные способы создания объектов типа Series"
   ]
  },
  {
   "cell_type": "code",
   "execution_count": null,
   "id": "3715d194-d97e-4081-b92d-d71c8486e0d8",
   "metadata": {},
   "outputs": [],
   "source": [
    "## DataFrame - двумерный массив с явно определенными индексами. Последовательность \n",
    "# \"согласованных\" объектов Series"
   ]
  },
  {
   "cell_type": "code",
   "execution_count": 41,
   "id": "a177efda-28f4-44d8-9e87-8f75e4a9b9a2",
   "metadata": {},
   "outputs": [
    {
     "name": "stdout",
     "output_type": "stream",
     "text": [
      "city_1    1001\n",
      "city_2    1002\n",
      "city_3    1003\n",
      "city_4    1004\n",
      "city_5    1005\n",
      "dtype: int64\n",
      "city_1    9991\n",
      "city_2    9992\n",
      "city_3    9993\n",
      "city_4    9994\n",
      "city_5    9995\n",
      "dtype: int64\n"
     ]
    }
   ],
   "source": [
    "population_dict = {\n",
    "    'city_1' : 1001,\n",
    "    'city_2' : 1002,\n",
    "    'city_3' : 1003,\n",
    "    'city_4' : 1004,\n",
    "    'city_5' : 1005,\n",
    "}\n",
    "area_dict = {\n",
    "    'city_1' : 9991,\n",
    "    'city_2' : 9992,\n",
    "    'city_3' : 9993,\n",
    "    'city_4' : 9994,\n",
    "    'city_5' : 9995,\n",
    "}\n",
    "population = pd.Series(population_dict)\n",
    "area = pd.Series(area_dict)\n",
    "\n",
    "print(population)\n",
    "print(area)"
   ]
  },
  {
   "cell_type": "code",
   "execution_count": 43,
   "id": "dbcd6702-5e8f-4482-8cb7-f9b32baccc61",
   "metadata": {},
   "outputs": [
    {
     "name": "stdout",
     "output_type": "stream",
     "text": [
      "        population1  area1\n",
      "city_1         1001   9991\n",
      "city_2         1002   9992\n",
      "city_3         1003   9993\n",
      "city_4         1004   9994\n",
      "city_5         1005   9995\n"
     ]
    }
   ],
   "source": [
    "states=pd.DataFrame({\n",
    "    'population1' : population,\n",
    "    'area1' : area\n",
    "})\n",
    "print (states)"
   ]
  },
  {
   "cell_type": "code",
   "execution_count": 45,
   "id": "1a4751d2-4254-4ed7-9f3f-91652cf9cdc8",
   "metadata": {},
   "outputs": [
    {
     "name": "stdout",
     "output_type": "stream",
     "text": [
      "[[1001 9991]\n",
      " [1002 9992]\n",
      " [1003 9993]\n",
      " [1004 9994]\n",
      " [1005 9995]]\n",
      "Index(['city_1', 'city_2', 'city_3', 'city_4', 'city_5'], dtype='object')\n",
      "Index(['population1', 'area1'], dtype='object')\n",
      "<class 'numpy.ndarray'>\n",
      "<class 'pandas.core.indexes.base.Index'>\n",
      "<class 'pandas.core.indexes.base.Index'>\n"
     ]
    }
   ],
   "source": [
    "print(states.values)\n",
    "print(states.index)\n",
    "print(states.columns)\n",
    "\n",
    "print(type(states.values))\n",
    "print(type(states.index))\n",
    "print(type(states.columns))"
   ]
  },
  {
   "cell_type": "code",
   "execution_count": 47,
   "id": "ce92fb75-0dd3-4221-9c89-c63fff6a0cdf",
   "metadata": {},
   "outputs": [
    {
     "name": "stdout",
     "output_type": "stream",
     "text": [
      "city_1    9991\n",
      "city_2    9992\n",
      "city_3    9993\n",
      "city_4    9994\n",
      "city_5    9995\n",
      "Name: area1, dtype: int64\n"
     ]
    }
   ],
   "source": [
    "print (states['area1'])"
   ]
  },
  {
   "cell_type": "code",
   "execution_count": 49,
   "id": "04ec82eb-9c7a-4045-808b-42aa44a33e9a",
   "metadata": {},
   "outputs": [],
   "source": [
    "## DataFrame. Способы создания\n",
    "#- через объекты Series\n",
    "# - списки словарей\n",
    "# - словари объектов Series\n",
    "# - двумерный массив NumPy\n",
    "# - структурированный массив NumPy"
   ]
  },
  {
   "cell_type": "code",
   "execution_count": null,
   "id": "1578db3d-dfd1-4745-8faa-c5a08774b241",
   "metadata": {},
   "outputs": [],
   "source": [
    "# 2. Привести различные способы создания DataFrame."
   ]
  },
  {
   "cell_type": "code",
   "execution_count": null,
   "id": "c426b664-110e-4a34-bf4a-a6950adcc884",
   "metadata": {},
   "outputs": [],
   "source": [
    "# Index - способ организации ссылки на данные объуктов Series и DataFrame, \n",
    "# неизменяем, упорядочен, являетмя мультимножеством(могут быть повторяющ. значения)\n"
   ]
  },
  {
   "cell_type": "code",
   "execution_count": 53,
   "id": "9d3296e2-43c2-4433-bc78-df4bfaa54e79",
   "metadata": {},
   "outputs": [
    {
     "name": "stdout",
     "output_type": "stream",
     "text": [
      "3\n",
      "Index([2, 5, 11], dtype='int64')\n"
     ]
    }
   ],
   "source": [
    "ind = pd.Index([2,3,5,7,11])\n",
    "print(ind[1])\n",
    "print(ind[::2])"
   ]
  },
  {
   "cell_type": "code",
   "execution_count": 55,
   "id": "39fd87ed-db12-4637-8a4d-10b46c276625",
   "metadata": {},
   "outputs": [
    {
     "ename": "TypeError",
     "evalue": "Index does not support mutable operations",
     "output_type": "error",
     "traceback": [
      "\u001b[1;31m---------------------------------------------------------------------------\u001b[0m",
      "\u001b[1;31mTypeError\u001b[0m                                 Traceback (most recent call last)",
      "Cell \u001b[1;32mIn[55], line 1\u001b[0m\n\u001b[1;32m----> 1\u001b[0m ind[\u001b[38;5;241m1\u001b[39m] \u001b[38;5;241m=\u001b[39m \u001b[38;5;241m5\u001b[39m\n",
      "File \u001b[1;32m~\\anaconda3\\Lib\\site-packages\\pandas\\core\\indexes\\base.py:5371\u001b[0m, in \u001b[0;36mIndex.__setitem__\u001b[1;34m(self, key, value)\u001b[0m\n\u001b[0;32m   5369\u001b[0m \u001b[38;5;129m@final\u001b[39m\n\u001b[0;32m   5370\u001b[0m \u001b[38;5;28;01mdef\u001b[39;00m \u001b[38;5;21m__setitem__\u001b[39m(\u001b[38;5;28mself\u001b[39m, key, value) \u001b[38;5;241m-\u001b[39m\u001b[38;5;241m>\u001b[39m \u001b[38;5;28;01mNone\u001b[39;00m:\n\u001b[1;32m-> 5371\u001b[0m     \u001b[38;5;28;01mraise\u001b[39;00m \u001b[38;5;167;01mTypeError\u001b[39;00m(\u001b[38;5;124m\"\u001b[39m\u001b[38;5;124mIndex does not support mutable operations\u001b[39m\u001b[38;5;124m\"\u001b[39m)\n",
      "\u001b[1;31mTypeError\u001b[0m: Index does not support mutable operations"
     ]
    }
   ],
   "source": [
    "ind[1] = 5\n"
   ]
  },
  {
   "cell_type": "code",
   "execution_count": 57,
   "id": "87ff8d4b-8a01-4570-b9de-107d63f1a541",
   "metadata": {},
   "outputs": [],
   "source": [
    "#Index - следует соглашениям обьекта set (python)"
   ]
  },
  {
   "cell_type": "code",
   "execution_count": 61,
   "id": "9eab92dc-f465-4c73-af98-a251cdb2c17c",
   "metadata": {},
   "outputs": [
    {
     "name": "stdout",
     "output_type": "stream",
     "text": [
      "Index([2, 3, 4, 5], dtype='int64')\n"
     ]
    }
   ],
   "source": [
    "indA = pd.Index([1,2,3,4,5])\n",
    "indB = pd.Index([2,3,4,5,6])\n",
    "\n",
    "print(indA.intersection(indB))"
   ]
  },
  {
   "cell_type": "code",
   "execution_count": 63,
   "id": "23601d8f-711b-4cfb-89d2-f0dea79645c6",
   "metadata": {},
   "outputs": [],
   "source": [
    "# Выборка данных из Series"
   ]
  },
  {
   "cell_type": "code",
   "execution_count": 65,
   "id": "fc73da70-13c3-46d7-abfb-aefce464da4b",
   "metadata": {},
   "outputs": [
    {
     "name": "stdout",
     "output_type": "stream",
     "text": [
      "True\n",
      "False\n"
     ]
    }
   ],
   "source": [
    "data = pd.Series([0.25, 0.5, 0.75, 1.0], index=['a','b','c', 'd'])\n",
    "\n",
    "print ('a' in data)\n",
    "print ('z' in data)\n"
   ]
  },
  {
   "cell_type": "code",
   "execution_count": 67,
   "id": "ee98ed75-dcde-433e-8ef4-b521d1e1a026",
   "metadata": {},
   "outputs": [
    {
     "name": "stdout",
     "output_type": "stream",
     "text": [
      "Index(['a', 'b', 'c', 'd'], dtype='object')\n"
     ]
    }
   ],
   "source": [
    "print (data.keys())"
   ]
  },
  {
   "cell_type": "code",
   "execution_count": 69,
   "id": "cd318bf5-2be5-4774-a791-f86efd768630",
   "metadata": {},
   "outputs": [
    {
     "name": "stdout",
     "output_type": "stream",
     "text": [
      "[('a', 0.25), ('b', 0.5), ('c', 0.75), ('d', 1.0)]\n"
     ]
    }
   ],
   "source": [
    "print (list(data.items()))"
   ]
  },
  {
   "cell_type": "code",
   "execution_count": 71,
   "id": "d01019a9-1ea5-46ba-87ed-1fac67e2f2d9",
   "metadata": {},
   "outputs": [
    {
     "name": "stdout",
     "output_type": "stream",
     "text": [
      "a     100.00\n",
      "b       0.50\n",
      "c       0.75\n",
      "d       1.00\n",
      "z    1000.00\n",
      "dtype: float64\n"
     ]
    }
   ],
   "source": [
    "data['a']=100\n",
    "data['z']=1000\n",
    "\n",
    "print(data)"
   ]
  },
  {
   "cell_type": "code",
   "execution_count": 73,
   "id": "14a5a4bd-f6d5-477f-aab5-85976d1afb82",
   "metadata": {},
   "outputs": [],
   "source": [
    "## как одномерный массив"
   ]
  },
  {
   "cell_type": "code",
   "execution_count": 75,
   "id": "89d10832-9c75-4701-b4b1-d071ee0e9a15",
   "metadata": {},
   "outputs": [
    {
     "name": "stdout",
     "output_type": "stream",
     "text": [
      "a    0.25\n",
      "b    0.50\n",
      "c    0.75\n",
      "dtype: float64\n",
      "a    0.25\n",
      "b    0.50\n",
      "dtype: float64\n"
     ]
    }
   ],
   "source": [
    "data = pd.Series([0.25, 0.5, 0.75, 1.0], index=['a','b','c', 'd'])\n",
    "print(data['a':'c'])\n",
    "print(data[0:2])"
   ]
  },
  {
   "cell_type": "code",
   "execution_count": 77,
   "id": "ea8c01f0-8727-4e02-b906-6036e552da12",
   "metadata": {},
   "outputs": [
    {
     "name": "stdout",
     "output_type": "stream",
     "text": [
      "c    0.75\n",
      "d    1.00\n",
      "dtype: float64\n"
     ]
    }
   ],
   "source": [
    "print(data[data > 0.5])"
   ]
  },
  {
   "cell_type": "code",
   "execution_count": 79,
   "id": "77b16180-a026-43d0-b10b-e13dc8ce6bc6",
   "metadata": {},
   "outputs": [
    {
     "name": "stdout",
     "output_type": "stream",
     "text": [
      "c    0.75\n",
      "dtype: float64\n"
     ]
    }
   ],
   "source": [
    "print(data[(data > 0.5) & (data <1 )])"
   ]
  },
  {
   "cell_type": "code",
   "execution_count": 81,
   "id": "57d74152-a6e5-4d2a-b38b-be61947bb4ef",
   "metadata": {},
   "outputs": [
    {
     "name": "stdout",
     "output_type": "stream",
     "text": [
      "a    0.25\n",
      "d    1.00\n",
      "dtype: float64\n"
     ]
    }
   ],
   "source": [
    "print(data[['a','d']])"
   ]
  },
  {
   "cell_type": "code",
   "execution_count": null,
   "id": "28a6a521-8100-4ac2-9fe0-9fbb1c72e1f9",
   "metadata": {},
   "outputs": [],
   "source": [
    "# aтрибуты-индексаторы"
   ]
  },
  {
   "cell_type": "code",
   "execution_count": 90,
   "id": "3ae4e8a2-85ba-4284-bb13-5e74dc3ead6a",
   "metadata": {},
   "outputs": [
    {
     "name": "stdout",
     "output_type": "stream",
     "text": [
      "0.25\n"
     ]
    }
   ],
   "source": [
    "data = pd.Series([0.25, 0.5, 0.75, 1.0], index=[1,3,10,15])\n",
    "print(data[1])"
   ]
  },
  {
   "cell_type": "code",
   "execution_count": 92,
   "id": "d3358af9-51b4-4ac8-a8bc-568be8f31cb5",
   "metadata": {},
   "outputs": [
    {
     "name": "stdout",
     "output_type": "stream",
     "text": [
      "0.25\n",
      "0.5\n"
     ]
    }
   ],
   "source": [
    "print (data.loc[1])\n",
    "print (data.iloc[1])"
   ]
  },
  {
   "cell_type": "code",
   "execution_count": 94,
   "id": "a6e38973-fb8a-4064-8252-c7412e829560",
   "metadata": {},
   "outputs": [],
   "source": [
    "# Выборка данных из DataFrame"
   ]
  },
  {
   "cell_type": "code",
   "execution_count": 100,
   "id": "a659e56c-44f7-4c1d-8cac-b6847677614d",
   "metadata": {},
   "outputs": [
    {
     "name": "stdout",
     "output_type": "stream",
     "text": [
      "        area1  pop1   pop\n",
      "city_1   9991  1001  1001\n",
      "city_2   9992  1002  1002\n",
      "city_3   9993  1003  1003\n",
      "city_4   9994  1004  1004\n",
      "city_5   9995  1005  1005\n",
      "city_1    9991\n",
      "city_2    9992\n",
      "city_3    9993\n",
      "city_4    9994\n",
      "city_5    9995\n",
      "Name: area1, dtype: int64\n",
      "city_1    9991\n",
      "city_2    9992\n",
      "city_3    9993\n",
      "city_4    9994\n",
      "city_5    9995\n",
      "Name: area1, dtype: int64\n"
     ]
    }
   ],
   "source": [
    "\n",
    "pop = pd.Series (\n",
    "    {\n",
    "            'city_1' : 1001,\n",
    "            'city_2' : 1002,\n",
    "            'city_3' : 1003,\n",
    "            'city_4' : 1004,\n",
    "            'city_5' : 1005,\n",
    "    }\n",
    ")\n",
    "\n",
    "area = pd.Series(\n",
    "    {\n",
    "            'city_1' : 9991,\n",
    "            'city_2' : 9992,\n",
    "            'city_3' : 9993,\n",
    "            'city_4' : 9994,\n",
    "            'city_5' : 9995,\n",
    "    }\n",
    ")\n",
    "data = pd.DataFrame({'area1':area, 'pop1':pop, 'pop' : pop})\n",
    "\n",
    "print(data)\n",
    "print(data['area1'])\n",
    "print(data.area1)"
   ]
  },
  {
   "cell_type": "code",
   "execution_count": 98,
   "id": "cb74ef86-1cfb-4429-ad33-b101ebb20052",
   "metadata": {},
   "outputs": [
    {
     "name": "stdout",
     "output_type": "stream",
     "text": [
      "True\n"
     ]
    }
   ],
   "source": [
    "print (data.pop1 is data['pop1'])"
   ]
  },
  {
   "cell_type": "code",
   "execution_count": 102,
   "id": "83a980d5-ec12-497e-b549-e54a3fb8c9cb",
   "metadata": {},
   "outputs": [
    {
     "name": "stdout",
     "output_type": "stream",
     "text": [
      "False\n"
     ]
    }
   ],
   "source": [
    "print (data.pop is data['pop'])"
   ]
  },
  {
   "cell_type": "code",
   "execution_count": 104,
   "id": "d1dd9c60-e461-4477-a7e9-b3503c5af796",
   "metadata": {},
   "outputs": [],
   "source": [
    "data['new'] = data['area1']"
   ]
  },
  {
   "cell_type": "code",
   "execution_count": 106,
   "id": "001cf708-c4f7-4ec4-973b-98bbb5435602",
   "metadata": {},
   "outputs": [
    {
     "name": "stdout",
     "output_type": "stream",
     "text": [
      "        area1  pop1   pop   new\n",
      "city_1   9991  1001  1001  9991\n",
      "city_2   9992  1002  1002  9992\n",
      "city_3   9993  1003  1003  9993\n",
      "city_4   9994  1004  1004  9994\n",
      "city_5   9995  1005  1005  9995\n"
     ]
    }
   ],
   "source": [
    "print(data)"
   ]
  },
  {
   "cell_type": "code",
   "execution_count": 108,
   "id": "1b9b2062-ea3d-487c-9dde-12bcde7c02f5",
   "metadata": {},
   "outputs": [
    {
     "name": "stdout",
     "output_type": "stream",
     "text": [
      "        area1  pop1   pop   new      new1\n",
      "city_1   9991  1001  1001  9991  9.981019\n",
      "city_2   9992  1002  1002  9992  9.972056\n",
      "city_3   9993  1003  1003  9993  9.963111\n",
      "city_4   9994  1004  1004  9994  9.954183\n",
      "city_5   9995  1005  1005  9995  9.945274\n"
     ]
    }
   ],
   "source": [
    "data['new1'] = data['area1'] / data['pop1']\n",
    "print(data)"
   ]
  },
  {
   "cell_type": "code",
   "execution_count": 110,
   "id": "918deed9-4fe6-4e0d-b94c-2b4be631472c",
   "metadata": {},
   "outputs": [],
   "source": [
    "# двумерный NumPy - массив"
   ]
  },
  {
   "cell_type": "code",
   "execution_count": 112,
   "id": "e2799ce5-45d5-473b-8117-578ccf8aeff2",
   "metadata": {},
   "outputs": [
    {
     "name": "stdout",
     "output_type": "stream",
     "text": [
      "        area1  pop1\n",
      "city_1   9991  1001\n",
      "city_2   9992  1002\n",
      "city_3   9993  1003\n",
      "city_4   9994  1004\n",
      "city_5   9995  1005\n"
     ]
    }
   ],
   "source": [
    "pop = pd.Series (\n",
    "    {\n",
    "            'city_1' : 1001,\n",
    "            'city_2' : 1002,\n",
    "            'city_3' : 1003,\n",
    "            'city_4' : 1004,\n",
    "            'city_5' : 1005,\n",
    "    }\n",
    ")\n",
    "\n",
    "area = pd.Series(\n",
    "    {\n",
    "            'city_1' : 9991,\n",
    "            'city_2' : 9992,\n",
    "            'city_3' : 9993,\n",
    "            'city_4' : 9994,\n",
    "            'city_5' : 9995,\n",
    "    }\n",
    ")\n",
    "data = pd.DataFrame({'area1':area, 'pop1':pop})\n",
    "print(data)"
   ]
  },
  {
   "cell_type": "code",
   "execution_count": 114,
   "id": "d73e1665-d5e1-46ba-87c1-4a5ee7e79587",
   "metadata": {},
   "outputs": [
    {
     "name": "stdout",
     "output_type": "stream",
     "text": [
      "[[9991 1001]\n",
      " [9992 1002]\n",
      " [9993 1003]\n",
      " [9994 1004]\n",
      " [9995 1005]]\n"
     ]
    }
   ],
   "source": [
    "print(data.values)"
   ]
  },
  {
   "cell_type": "code",
   "execution_count": 116,
   "id": "b08ded8c-d047-4a71-9f7a-7f5b1ef60217",
   "metadata": {},
   "outputs": [
    {
     "name": "stdout",
     "output_type": "stream",
     "text": [
      "       city_1  city_2  city_3  city_4  city_5\n",
      "area1    9991    9992    9993    9994    9995\n",
      "pop1     1001    1002    1003    1004    1005\n"
     ]
    }
   ],
   "source": [
    "print(data.T)"
   ]
  },
  {
   "cell_type": "code",
   "execution_count": 118,
   "id": "2cb93b97-e417-48a3-a57d-d97a2720aaf7",
   "metadata": {},
   "outputs": [
    {
     "name": "stdout",
     "output_type": "stream",
     "text": [
      "city_1    9991\n",
      "city_2    9992\n",
      "city_3    9993\n",
      "city_4    9994\n",
      "city_5    9995\n",
      "Name: area1, dtype: int64\n"
     ]
    }
   ],
   "source": [
    "print(data['area1'])"
   ]
  },
  {
   "cell_type": "code",
   "execution_count": 120,
   "id": "c2a2db55-cd13-4533-865d-9b90e6d75f79",
   "metadata": {},
   "outputs": [
    {
     "name": "stdout",
     "output_type": "stream",
     "text": [
      "[9991 1001]\n"
     ]
    }
   ],
   "source": [
    "print(data.values[0])"
   ]
  },
  {
   "cell_type": "code",
   "execution_count": 122,
   "id": "d5baaa6f-f408-4dd3-b7b2-4d1c121f1f41",
   "metadata": {},
   "outputs": [
    {
     "name": "stdout",
     "output_type": "stream",
     "text": [
      "[[9991 1001]\n",
      " [9992 1002]\n",
      " [9993 1003]]\n"
     ]
    }
   ],
   "source": [
    "print(data.values[0:3])"
   ]
  },
  {
   "cell_type": "code",
   "execution_count": 124,
   "id": "337c85e5-ad9c-4df8-82b7-d0e5d95b03c4",
   "metadata": {},
   "outputs": [],
   "source": [
    "# атрибуты-индексаторы"
   ]
  },
  {
   "cell_type": "code",
   "execution_count": 126,
   "id": "85e74c1c-2ff5-45c6-acfc-12d109505c48",
   "metadata": {},
   "outputs": [],
   "source": [
    "data = pd.DataFrame({'area1':area, 'pop1':pop, 'pop':pop})"
   ]
  },
  {
   "cell_type": "code",
   "execution_count": 128,
   "id": "d44a93f7-e05f-4864-ac92-fb163ab9e27f",
   "metadata": {},
   "outputs": [
    {
     "name": "stdout",
     "output_type": "stream",
     "text": [
      "        area1  pop1   pop\n",
      "city_1   9991  1001  1001\n",
      "city_2   9992  1002  1002\n",
      "city_3   9993  1003  1003\n",
      "city_4   9994  1004  1004\n",
      "city_5   9995  1005  1005\n",
      "        pop1\n",
      "city_1  1001\n",
      "city_2  1002\n",
      "city_3  1003\n",
      "        pop1   pop\n",
      "city_1  1001  1001\n",
      "city_2  1002  1002\n",
      "city_3  1003  1003\n",
      "city_4  1004  1004\n"
     ]
    }
   ],
   "source": [
    "print(data)\n",
    "print(data.iloc[:3, 1:2])\n",
    "print(data.loc[:'city_4','pop1':'pop'])"
   ]
  },
  {
   "cell_type": "code",
   "execution_count": 130,
   "id": "b2a3548c-c321-46aa-8a7d-01c59cbfdc76",
   "metadata": {},
   "outputs": [
    {
     "name": "stdout",
     "output_type": "stream",
     "text": [
      "        area1   pop\n",
      "city_3   9993  1003\n",
      "city_4   9994  1004\n",
      "city_5   9995  1005\n"
     ]
    }
   ],
   "source": [
    "print(data.loc[data['pop'] > 1002, ['area1','pop']])"
   ]
  },
  {
   "cell_type": "code",
   "execution_count": 132,
   "id": "9f0ad67e-1987-4b65-9c1c-d795bba21535",
   "metadata": {},
   "outputs": [
    {
     "name": "stdout",
     "output_type": "stream",
     "text": [
      "        area1  pop1    pop\n",
      "city_1   9991  1001  99999\n",
      "city_2   9992  1002   1002\n",
      "city_3   9993  1003   1003\n",
      "city_4   9994  1004   1004\n",
      "city_5   9995  1005   1005\n"
     ]
    }
   ],
   "source": [
    "data.iloc[0,2] = 99999\n",
    "print(data)"
   ]
  },
  {
   "cell_type": "code",
   "execution_count": 134,
   "id": "0e360834-6cdf-47bf-9b72-7b8174f753f8",
   "metadata": {},
   "outputs": [
    {
     "name": "stdout",
     "output_type": "stream",
     "text": [
      "0    9\n",
      "1    0\n",
      "2    5\n",
      "3    8\n",
      "dtype: int64\n"
     ]
    }
   ],
   "source": [
    "rng = np.random.default_rng()\n",
    "s = pd.Series(rng.integers(0,10,4))\n",
    "\n",
    "print(s)"
   ]
  },
  {
   "cell_type": "code",
   "execution_count": 136,
   "id": "649b0248-3109-4f37-a2d0-e9c210a7365e",
   "metadata": {},
   "outputs": [
    {
     "name": "stdout",
     "output_type": "stream",
     "text": [
      "0    8103.083928\n",
      "1       1.000000\n",
      "2     148.413159\n",
      "3    2980.957987\n",
      "dtype: float64\n"
     ]
    }
   ],
   "source": [
    "print (np.exp(s))"
   ]
  },
  {
   "cell_type": "code",
   "execution_count": 140,
   "id": "dde9f770-7c52-419d-89b6-be2e055e851f",
   "metadata": {},
   "outputs": [
    {
     "name": "stdout",
     "output_type": "stream",
     "text": [
      "          area1    pop1\n",
      "city_1   9991.0  1001.0\n",
      "city_2   9992.0  1002.0\n",
      "city_3   9993.0  1003.0\n",
      "city_41     NaN  1004.0\n",
      "city_42  9994.0     NaN\n",
      "city_51     NaN  1005.0\n",
      "city_52  9995.0     NaN\n"
     ]
    }
   ],
   "source": [
    "pop = pd.Series (\n",
    "    {\n",
    "            'city_1' : 1001,\n",
    "            'city_2' : 1002,\n",
    "            'city_3' : 1003,\n",
    "            'city_41' : 1004,\n",
    "            'city_51' : 1005,\n",
    "    }\n",
    ")\n",
    "\n",
    "area = pd.Series(\n",
    "    {\n",
    "            'city_1' : 9991,\n",
    "            'city_2' : 9992,\n",
    "            'city_3' : 9993,\n",
    "            'city_42' : 9994,\n",
    "            'city_52' : 9995,\n",
    "    }\n",
    ")\n",
    "\n",
    "data = pd.DataFrame({'area1':area, 'pop1':pop})\n",
    "\n",
    "print(data)"
   ]
  },
  {
   "cell_type": "code",
   "execution_count": 142,
   "id": "dc680b66-2b82-471c-8c40-cc2ef74b3233",
   "metadata": {},
   "outputs": [],
   "source": [
    "# Nan - not a number"
   ]
  },
  {
   "cell_type": "code",
   "execution_count": 144,
   "id": "8941bb68-e0a8-452c-9f9f-0f7a780aef35",
   "metadata": {},
   "outputs": [],
   "source": [
    "# 3. Объедините два объекта Series с неодинаковыми множествами ключей (индексов) так, чтобы\n",
    "# вместо NaN было установлено значение 1"
   ]
  },
  {
   "cell_type": "code",
   "execution_count": 148,
   "id": "0ebad360-dbca-4b57-a0e2-7eb46137a097",
   "metadata": {},
   "outputs": [
    {
     "name": "stdout",
     "output_type": "stream",
     "text": [
      "   a  b\n",
      "0  9  0\n",
      "1  6  6\n",
      "   a  b  c\n",
      "0  1  7  8\n",
      "1  6  3  6\n",
      "2  9  7  3\n"
     ]
    }
   ],
   "source": [
    "dfA = pd.DataFrame(rng.integers(0,10,(2,2)), columns =['a','b'])\n",
    "dfB = pd.DataFrame(rng.integers(0,10,(3,3)), columns =['a','b', 'c'])\n",
    "\n",
    "print(dfA)\n",
    "print(dfB)"
   ]
  },
  {
   "cell_type": "code",
   "execution_count": 150,
   "id": "ebde21e9-590e-4d95-856c-e2420a735d1b",
   "metadata": {},
   "outputs": [
    {
     "name": "stdout",
     "output_type": "stream",
     "text": [
      "      a    b   c\n",
      "0  10.0  7.0 NaN\n",
      "1  12.0  9.0 NaN\n",
      "2   NaN  NaN NaN\n"
     ]
    }
   ],
   "source": [
    "print (dfA + dfB)"
   ]
  },
  {
   "cell_type": "code",
   "execution_count": 152,
   "id": "9a1f54a8-d451-4e9c-a566-0bd481d0a0e9",
   "metadata": {},
   "outputs": [
    {
     "name": "stdout",
     "output_type": "stream",
     "text": [
      "[[4 5 7 9]\n",
      " [0 1 8 9]\n",
      " [2 3 8 4]]\n"
     ]
    }
   ],
   "source": [
    "rng = np.random.default_rng(1)\n",
    "\n",
    "A = rng.integers(0, 10, (3,4))\n",
    "print(A)"
   ]
  },
  {
   "cell_type": "code",
   "execution_count": 154,
   "id": "761dd9a9-a8a3-4f1d-a3b1-1e068ef2a560",
   "metadata": {},
   "outputs": [
    {
     "name": "stdout",
     "output_type": "stream",
     "text": [
      "[4 5 7 9]\n"
     ]
    }
   ],
   "source": [
    "print (A[0])"
   ]
  },
  {
   "cell_type": "code",
   "execution_count": 156,
   "id": "e2bd3926-5b9f-4d00-a9f2-8c32194b653d",
   "metadata": {},
   "outputs": [
    {
     "name": "stdout",
     "output_type": "stream",
     "text": [
      "[[ 0  0  0  0]\n",
      " [-4 -4  1  0]\n",
      " [-2 -2  1 -5]]\n"
     ]
    }
   ],
   "source": [
    "print (A-A[0])"
   ]
  },
  {
   "cell_type": "code",
   "execution_count": 158,
   "id": "5d63ce5e-7817-4727-b4f5-b73f4c578123",
   "metadata": {},
   "outputs": [
    {
     "name": "stdout",
     "output_type": "stream",
     "text": [
      "   a  b  c  d\n",
      "0  4  5  7  9\n",
      "1  0  1  8  9\n",
      "2  2  3  8  4\n"
     ]
    }
   ],
   "source": [
    "df = pd.DataFrame(A, columns=['a','b','c','d'])\n",
    "print(df)"
   ]
  },
  {
   "cell_type": "code",
   "execution_count": 160,
   "id": "2921915e-4baa-47c4-b43b-77da726edc6c",
   "metadata": {},
   "outputs": [
    {
     "name": "stdout",
     "output_type": "stream",
     "text": [
      "a    4\n",
      "b    5\n",
      "c    7\n",
      "d    9\n",
      "Name: 0, dtype: int64\n"
     ]
    }
   ],
   "source": [
    "print(df.iloc[0])"
   ]
  },
  {
   "cell_type": "code",
   "execution_count": 162,
   "id": "d1ebe7d6-9253-4f1c-907c-ccd064350b7a",
   "metadata": {},
   "outputs": [
    {
     "name": "stdout",
     "output_type": "stream",
     "text": [
      "   a  b  c  d\n",
      "0  0  0  0  0\n",
      "1 -4 -4  1  0\n",
      "2 -2 -2  1 -5\n"
     ]
    }
   ],
   "source": [
    "print(df - df.iloc[0])"
   ]
  },
  {
   "cell_type": "code",
   "execution_count": 164,
   "id": "2d3570f7-afc4-4551-a4b7-a6db0acd9c8d",
   "metadata": {},
   "outputs": [
    {
     "name": "stdout",
     "output_type": "stream",
     "text": [
      "a    4\n",
      "c    7\n",
      "Name: 0, dtype: int64\n"
     ]
    }
   ],
   "source": [
    "print (df.iloc[0, ::2])"
   ]
  },
  {
   "cell_type": "code",
   "execution_count": 166,
   "id": "c1e415ba-f63a-4311-bfdc-cfc25e5844af",
   "metadata": {},
   "outputs": [
    {
     "name": "stdout",
     "output_type": "stream",
     "text": [
      "     a   b    c   d\n",
      "0  0.0 NaN  0.0 NaN\n",
      "1 -4.0 NaN  1.0 NaN\n",
      "2 -2.0 NaN  1.0 NaN\n"
     ]
    }
   ],
   "source": [
    "print (df - df.iloc[0, ::2])"
   ]
  },
  {
   "cell_type": "code",
   "execution_count": 168,
   "id": "57593742-bd79-419b-b4e9-e041f5715bee",
   "metadata": {},
   "outputs": [],
   "source": [
    "# 4. Переписать пример с транслированием для DataFrame так, чтобы вычитание происходило \n",
    "# по столбцам, а не по строкам"
   ]
  },
  {
   "cell_type": "code",
   "execution_count": 170,
   "id": "3364f758-5630-4d5f-9532-2965f0a74818",
   "metadata": {},
   "outputs": [],
   "source": [
    "# NA - значения: NaN, null, -9999"
   ]
  },
  {
   "cell_type": "code",
   "execution_count": 172,
   "id": "796228db-7530-4301-92fa-10e36134d3f6",
   "metadata": {},
   "outputs": [],
   "source": [
    "# Pandas. Два способа хранения отстутсвующих значений\n",
    "# индикаторы NaN, None\n",
    "# null\n"
   ]
  },
  {
   "cell_type": "code",
   "execution_count": 174,
   "id": "dc48f3e0-e0c5-4572-a912-4332a0e47db1",
   "metadata": {},
   "outputs": [],
   "source": [
    "# None - щбъект (накладные расходы). Не работает с sum, min"
   ]
  },
  {
   "cell_type": "code",
   "execution_count": 176,
   "id": "f93c0af5-f0e6-42a1-bac8-059161cb2532",
   "metadata": {},
   "outputs": [
    {
     "name": "stdout",
     "output_type": "stream",
     "text": [
      "6\n"
     ]
    }
   ],
   "source": [
    "vall = np.array([1,2,3])\n",
    "print (vall.sum())"
   ]
  },
  {
   "cell_type": "code",
   "execution_count": 178,
   "id": "a9fbdd7e-c2ba-4505-8b41-c84b0d11b522",
   "metadata": {},
   "outputs": [
    {
     "ename": "TypeError",
     "evalue": "unsupported operand type(s) for +: 'int' and 'NoneType'",
     "output_type": "error",
     "traceback": [
      "\u001b[1;31m---------------------------------------------------------------------------\u001b[0m",
      "\u001b[1;31mTypeError\u001b[0m                                 Traceback (most recent call last)",
      "Cell \u001b[1;32mIn[178], line 2\u001b[0m\n\u001b[0;32m      1\u001b[0m vall \u001b[38;5;241m=\u001b[39m np\u001b[38;5;241m.\u001b[39marray([\u001b[38;5;241m1\u001b[39m,\u001b[38;5;28;01mNone\u001b[39;00m,\u001b[38;5;241m2\u001b[39m,\u001b[38;5;241m3\u001b[39m])\n\u001b[1;32m----> 2\u001b[0m \u001b[38;5;28mprint\u001b[39m (vall\u001b[38;5;241m.\u001b[39msum())\n",
      "File \u001b[1;32m~\\anaconda3\\Lib\\site-packages\\numpy\\core\\_methods.py:49\u001b[0m, in \u001b[0;36m_sum\u001b[1;34m(a, axis, dtype, out, keepdims, initial, where)\u001b[0m\n\u001b[0;32m     47\u001b[0m \u001b[38;5;28;01mdef\u001b[39;00m \u001b[38;5;21m_sum\u001b[39m(a, axis\u001b[38;5;241m=\u001b[39m\u001b[38;5;28;01mNone\u001b[39;00m, dtype\u001b[38;5;241m=\u001b[39m\u001b[38;5;28;01mNone\u001b[39;00m, out\u001b[38;5;241m=\u001b[39m\u001b[38;5;28;01mNone\u001b[39;00m, keepdims\u001b[38;5;241m=\u001b[39m\u001b[38;5;28;01mFalse\u001b[39;00m,\n\u001b[0;32m     48\u001b[0m          initial\u001b[38;5;241m=\u001b[39m_NoValue, where\u001b[38;5;241m=\u001b[39m\u001b[38;5;28;01mTrue\u001b[39;00m):\n\u001b[1;32m---> 49\u001b[0m     \u001b[38;5;28;01mreturn\u001b[39;00m umr_sum(a, axis, dtype, out, keepdims, initial, where)\n",
      "\u001b[1;31mTypeError\u001b[0m: unsupported operand type(s) for +: 'int' and 'NoneType'"
     ]
    }
   ],
   "source": [
    "vall = np.array([1,None,2,3])\n",
    "print (vall.sum())"
   ]
  },
  {
   "cell_type": "code",
   "execution_count": 186,
   "id": "ff66e249-c844-4da6-a2df-a6f38348e2b6",
   "metadata": {},
   "outputs": [
    {
     "name": "stdout",
     "output_type": "stream",
     "text": [
      "[ 1. nan  2.  3.]\n",
      "6.0\n",
      "nan\n",
      "nan\n"
     ]
    }
   ],
   "source": [
    "vall = np.array([1,np.nan,2,3])\n",
    "print(vall)\n",
    "print (np.nansum(vall))\n",
    "print (np.sum(vall))\n",
    "print (vall.sum())"
   ]
  },
  {
   "cell_type": "code",
   "execution_count": 188,
   "id": "8fe259bd-f116-49f0-8886-732b417c1403",
   "metadata": {},
   "outputs": [
    {
     "name": "stdout",
     "output_type": "stream",
     "text": [
      "0    0\n",
      "1    1\n",
      "2    2\n",
      "3    3\n",
      "4    4\n",
      "5    5\n",
      "6    6\n",
      "7    7\n",
      "8    8\n",
      "9    9\n",
      "dtype: int32\n"
     ]
    }
   ],
   "source": [
    "x = pd.Series(range(10), dtype=int)\n",
    "print(x)"
   ]
  },
  {
   "cell_type": "code",
   "execution_count": 190,
   "id": "72965bfc-bbab-4760-a78a-73e80a6bf62b",
   "metadata": {},
   "outputs": [
    {
     "name": "stdout",
     "output_type": "stream",
     "text": [
      "0    NaN\n",
      "1    NaN\n",
      "2    2.0\n",
      "3    3.0\n",
      "4    4.0\n",
      "5    5.0\n",
      "6    6.0\n",
      "7    7.0\n",
      "8    8.0\n",
      "9    9.0\n",
      "dtype: float64\n"
     ]
    }
   ],
   "source": [
    "x[0] = None\n",
    "x[1] = np.nan\n",
    "\n",
    "print(x)"
   ]
  },
  {
   "cell_type": "code",
   "execution_count": 192,
   "id": "81c55130-04a9-437e-9efb-ce0426faabd1",
   "metadata": {},
   "outputs": [
    {
     "name": "stdout",
     "output_type": "stream",
     "text": [
      "0    a\n",
      "1    b\n",
      "2    c\n",
      "dtype: object\n",
      "0    None\n",
      "1     NaN\n",
      "2       c\n",
      "dtype: object\n"
     ]
    }
   ],
   "source": [
    "x1 = pd.Series(['a','b','c'])\n",
    "print(x1)\n",
    "\n",
    "x1[0] = None\n",
    "x1[1] = np.nan\n",
    "\n",
    "print(x1)"
   ]
  },
  {
   "cell_type": "code",
   "execution_count": 194,
   "id": "77b01f8e-e12e-4d79-924f-952dad42bef3",
   "metadata": {},
   "outputs": [],
   "source": [
    "# "
   ]
  },
  {
   "cell_type": "code",
   "execution_count": 196,
   "id": "8e4acd0e-7a42-4df5-a1e0-b1a97bec11aa",
   "metadata": {},
   "outputs": [
    {
     "name": "stdout",
     "output_type": "stream",
     "text": [
      "0       1\n",
      "1       2\n",
      "2       3\n",
      "3     NaN\n",
      "4    None\n",
      "5    <NA>\n",
      "dtype: object\n"
     ]
    }
   ],
   "source": [
    "x2 = pd.Series([1,2,3,np.nan, None, pd.NA])\n",
    "print(x2)"
   ]
  },
  {
   "cell_type": "code",
   "execution_count": 198,
   "id": "644de9c9-8a0f-4bc1-a68c-7f11a4229ce1",
   "metadata": {},
   "outputs": [
    {
     "name": "stdout",
     "output_type": "stream",
     "text": [
      "0       1\n",
      "1       2\n",
      "2       3\n",
      "3    <NA>\n",
      "4    <NA>\n",
      "5    <NA>\n",
      "dtype: Int32\n"
     ]
    }
   ],
   "source": [
    "x3 = pd.Series([1,2,3,np.nan, None, pd.NA], dtype = 'Int32')\n",
    "print(x3)"
   ]
  },
  {
   "cell_type": "code",
   "execution_count": 200,
   "id": "c8253057-bcfb-4612-9b38-831966ff6e75",
   "metadata": {},
   "outputs": [
    {
     "name": "stdout",
     "output_type": "stream",
     "text": [
      "0    False\n",
      "1    False\n",
      "2    False\n",
      "3     True\n",
      "4     True\n",
      "5     True\n",
      "dtype: bool\n"
     ]
    }
   ],
   "source": [
    "print(x3.isnull())"
   ]
  },
  {
   "cell_type": "code",
   "execution_count": 202,
   "id": "f9c26ac0-81ea-43d2-8af7-1f0160ec49ba",
   "metadata": {},
   "outputs": [
    {
     "name": "stdout",
     "output_type": "stream",
     "text": [
      "3    <NA>\n",
      "4    <NA>\n",
      "5    <NA>\n",
      "dtype: Int32\n"
     ]
    }
   ],
   "source": [
    "print(x3[x3.isnull()])"
   ]
  },
  {
   "cell_type": "code",
   "execution_count": 204,
   "id": "4ba242c6-7fe5-4cbe-8137-c62245d6f795",
   "metadata": {},
   "outputs": [
    {
     "name": "stdout",
     "output_type": "stream",
     "text": [
      "0    1\n",
      "1    2\n",
      "2    3\n",
      "dtype: Int32\n"
     ]
    }
   ],
   "source": [
    "print(x3[x3.notnull()])"
   ]
  },
  {
   "cell_type": "code",
   "execution_count": 206,
   "id": "8747c979-84cc-4775-b1aa-677728aa27e9",
   "metadata": {},
   "outputs": [
    {
     "name": "stdout",
     "output_type": "stream",
     "text": [
      "0    1\n",
      "1    2\n",
      "2    3\n",
      "dtype: Int32\n"
     ]
    }
   ],
   "source": [
    "print(x3.dropna())"
   ]
  },
  {
   "cell_type": "code",
   "execution_count": 210,
   "id": "0e01450d-18fe-4e21-861c-9a6ea0e815f9",
   "metadata": {},
   "outputs": [
    {
     "name": "stdout",
     "output_type": "stream",
     "text": [
      "   0    1  2    3    4     5\n",
      "0  1  2.0  3  NaN  NaN  <NA>\n",
      "1  1  2.0  3  4.0  5.0     6\n",
      "2  1  NaN  3  4.0  NaN     6\n"
     ]
    }
   ],
   "source": [
    "df = pd.DataFrame(\n",
    "    [\n",
    "        [1,2,3, np.nan, None, pd.NA],\n",
    "        [1,2,3,4,5,6],\n",
    "        [1,np.nan,3,4,np.nan,6]\n",
    "    ]\n",
    ")\n",
    "\n",
    "print(df)\n"
   ]
  },
  {
   "cell_type": "code",
   "execution_count": 212,
   "id": "a0508c80-cf38-4a76-959b-0fe8272ed45d",
   "metadata": {},
   "outputs": [
    {
     "name": "stdout",
     "output_type": "stream",
     "text": [
      "   0    1  2    3    4  5\n",
      "1  1  2.0  3  4.0  5.0  6\n"
     ]
    }
   ],
   "source": [
    "print(df.dropna())"
   ]
  },
  {
   "cell_type": "code",
   "execution_count": 214,
   "id": "2e268aeb-049d-47a5-9187-d77cdc3d54f0",
   "metadata": {},
   "outputs": [
    {
     "name": "stdout",
     "output_type": "stream",
     "text": [
      "   0    1  2    3    4  5\n",
      "1  1  2.0  3  4.0  5.0  6\n"
     ]
    }
   ],
   "source": [
    "print(df.dropna(axis=0))\n"
   ]
  },
  {
   "cell_type": "code",
   "execution_count": 216,
   "id": "88e0b295-1555-4282-bb3f-ded7c58a4347",
   "metadata": {},
   "outputs": [
    {
     "name": "stdout",
     "output_type": "stream",
     "text": [
      "   0  2\n",
      "0  1  3\n",
      "1  1  3\n",
      "2  1  3\n"
     ]
    }
   ],
   "source": [
    "print(df.dropna(axis=1))"
   ]
  },
  {
   "cell_type": "code",
   "execution_count": 218,
   "id": "68fa0e0b-ceaa-438c-8d9e-83f46bcd3f83",
   "metadata": {},
   "outputs": [],
   "source": [
    "# how\n",
    "# - all - все значения NA\n",
    "# - any - хотя бы одно значение\n",
    "# - thresh = x, остается если присутствует МИНИМУМ X НЕПУСТЫХ значений\n"
   ]
  },
  {
   "cell_type": "code",
   "execution_count": 220,
   "id": "dda8e90e-759f-4b83-9ed0-d108b64db8eb",
   "metadata": {},
   "outputs": [
    {
     "name": "stdout",
     "output_type": "stream",
     "text": [
      "   0    1  2    4     5\n",
      "0  1  2.0  3  NaN  <NA>\n",
      "1  1  2.0  3  5.0     6\n",
      "2  1  NaN  3  NaN     6\n",
      "   0  2\n",
      "0  1  3\n",
      "1  1  3\n",
      "2  1  3\n"
     ]
    }
   ],
   "source": [
    "df = pd.DataFrame(\n",
    "    [\n",
    "        [1,2,3, np.nan, None, pd.NA],\n",
    "        [1,2,3,None,5,6],\n",
    "        [1,np.nan,3,None,np.nan,6]\n",
    "    ]\n",
    ")\n",
    "\n",
    "print(df.dropna(axis=1, how = 'all'))\n",
    "print(df.dropna(axis=1, how = 'any'))"
   ]
  },
  {
   "cell_type": "code",
   "execution_count": 222,
   "id": "461d83a6-6897-4c22-b87d-ed7e81193ada",
   "metadata": {},
   "outputs": [
    {
     "name": "stdout",
     "output_type": "stream",
     "text": [
      "   0    1  2     5\n",
      "0  1  2.0  3  <NA>\n",
      "1  1  2.0  3     6\n",
      "2  1  NaN  3     6\n"
     ]
    }
   ],
   "source": [
    "print(df.dropna(axis=1, thresh=2))"
   ]
  },
  {
   "cell_type": "code",
   "execution_count": null,
   "id": "40eecacd-81c4-4b47-8b62-76f2c64ea475",
   "metadata": {},
   "outputs": [],
   "source": [
    "#5. На примере объектов DataFrame продемонстрируйте использование методов ffill() и bfill()"
   ]
  }
 ],
 "metadata": {
  "kernelspec": {
   "display_name": "Python 3 (ipykernel)",
   "language": "python",
   "name": "python3"
  },
  "language_info": {
   "codemirror_mode": {
    "name": "ipython",
    "version": 3
   },
   "file_extension": ".py",
   "mimetype": "text/x-python",
   "name": "python",
   "nbconvert_exporter": "python",
   "pygments_lexer": "ipython3",
   "version": "3.12.7"
  }
 },
 "nbformat": 4,
 "nbformat_minor": 5
}
