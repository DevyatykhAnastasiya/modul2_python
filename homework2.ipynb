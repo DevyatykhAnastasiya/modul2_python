{
 "cells": [
  {
   "cell_type": "code",
   "execution_count": 3,
   "id": "0d9e1763-5b12-4c02-a304-7281f8a44693",
   "metadata": {},
   "outputs": [],
   "source": [
    "import numpy as np"
   ]
  },
  {
   "cell_type": "code",
   "execution_count": null,
   "id": "bf728464-cfa7-443a-af06-011bcc4a7899",
   "metadata": {},
   "outputs": [],
   "source": [
    "## 1. Что надо изменить в последнем примере, чтобы он заработал без ошибок (транслирование)?\n"
   ]
  },
  {
   "cell_type": "code",
   "execution_count": null,
   "id": "fbb3cf2e-d69f-4245-9ec5-fc55437ab4a6",
   "metadata": {},
   "outputs": [],
   "source": [
    "# Исходный пример:"
   ]
  },
  {
   "cell_type": "code",
   "execution_count": 5,
   "id": "b7aca8ea-ed50-4ee7-aa51-56bab7aa4c3a",
   "metadata": {},
   "outputs": [
    {
     "ename": "ValueError",
     "evalue": "operands could not be broadcast together with shapes (3,2) (3,) ",
     "output_type": "error",
     "traceback": [
      "\u001b[1;31m---------------------------------------------------------------------------\u001b[0m",
      "\u001b[1;31mValueError\u001b[0m                                Traceback (most recent call last)",
      "Cell \u001b[1;32mIn[5], line 7\u001b[0m\n\u001b[0;32m      2\u001b[0m b \u001b[38;5;241m=\u001b[39m np\u001b[38;5;241m.\u001b[39marange(\u001b[38;5;241m3\u001b[39m)\n\u001b[0;32m      4\u001b[0m \u001b[38;5;66;03m# 2 (3,2) -> (3,2) -> (3,2)\u001b[39;00m\n\u001b[0;32m      5\u001b[0m \u001b[38;5;66;03m# 1 (3,)  -> (1,3) -> (3,3)\u001b[39;00m\n\u001b[1;32m----> 7\u001b[0m c\u001b[38;5;241m=\u001b[39ma\u001b[38;5;241m+\u001b[39mb\n",
      "\u001b[1;31mValueError\u001b[0m: operands could not be broadcast together with shapes (3,2) (3,) "
     ]
    }
   ],
   "source": [
    "a = np.ones((3,2))\n",
    "b = np.arange(3)\n",
    "\n",
    "# 2 (3,2)    (3,2)    (3,2)\n",
    "# 1 (3,)  -> (1,3) -> (3,3)\n",
    "\n",
    "c=a+b"
   ]
  },
  {
   "cell_type": "code",
   "execution_count": null,
   "id": "7d59a652-a680-4a23-a4e4-0bea32d78442",
   "metadata": {},
   "outputs": [],
   "source": [
    "# Правила\n",
    "# 1. Если размерности массивов отличаются, то форма массива с меньшей размерностью дополняется 1 с левой стороны\n",
    "# 2. Если формы массивов не совпавдают в каком-то измерении, то если у массива форма=1, то он \"расстягивается\"\n",
    "# до соответств формы второго массива\n",
    "# 3. Если после применения этих правил в каком-дибо измерении размеры отличаются и ни один из них не равен 1,\n",
    "# то генерируется ошибка"
   ]
  },
  {
   "cell_type": "code",
   "execution_count": null,
   "id": "290f397c-54af-4cac-bb4c-ade8568d5d25",
   "metadata": {},
   "outputs": [],
   "source": [
    "# Исправленная версия:"
   ]
  },
  {
   "cell_type": "code",
   "execution_count": 11,
   "id": "513120df-337a-4797-b52f-79cf2955a095",
   "metadata": {},
   "outputs": [
    {
     "name": "stdout",
     "output_type": "stream",
     "text": [
      "[[1. 1.]\n",
      " [1. 1.]\n",
      " [1. 1.]]\n",
      "[0 1]\n",
      "[[1. 2.]\n",
      " [1. 2.]\n",
      " [1. 2.]]\n"
     ]
    }
   ],
   "source": [
    "a = np.ones((3,2))\n",
    "b = np.arange(2)\n",
    "\n",
    "c=a+b\n",
    "\n",
    "# 2 (3,2)    (3,2)    (3,2)\n",
    "# 1 (2,)  -> (1,2) -> (3,2)\n",
    "\n",
    "print(a)\n",
    "print(b)\n",
    "print(c)"
   ]
  },
  {
   "cell_type": "code",
   "execution_count": null,
   "id": "06ef55ae-3bfd-4a8f-b879-ab7ec569529d",
   "metadata": {},
   "outputs": [],
   "source": [
    "## 2. Пример для y. Вычислить количество элементов (по обоим размерностям), значения которых больше 3 и меньше 9"
   ]
  },
  {
   "cell_type": "code",
   "execution_count": 13,
   "id": "feceaa3c-48b2-4032-b768-7c34a3d813e5",
   "metadata": {},
   "outputs": [],
   "source": [
    "y = np.array([[1,2,3,4,5],[6,7,8,9,10]])"
   ]
  },
  {
   "cell_type": "code",
   "execution_count": 15,
   "id": "8ad6c3dd-a2c1-47d4-91ef-07a890b2b816",
   "metadata": {},
   "outputs": [
    {
     "name": "stdout",
     "output_type": "stream",
     "text": [
      "[1 1 1 2 2]\n"
     ]
    }
   ],
   "source": [
    "print(np.sum(y > 3, axis=0)) # больше 3 по  столбцам"
   ]
  },
  {
   "cell_type": "code",
   "execution_count": 17,
   "id": "5ed36431-97ef-4924-b42a-40d071e880d6",
   "metadata": {},
   "outputs": [
    {
     "name": "stdout",
     "output_type": "stream",
     "text": [
      "[2 5]\n"
     ]
    }
   ],
   "source": [
    "print(np.sum(y > 3, axis=1)) # больше 3 по  строкам"
   ]
  },
  {
   "cell_type": "code",
   "execution_count": 21,
   "id": "45578baa-d0b2-47b0-aa0a-db73db371624",
   "metadata": {},
   "outputs": [
    {
     "name": "stdout",
     "output_type": "stream",
     "text": [
      "[2 2 2 1 1]\n"
     ]
    }
   ],
   "source": [
    "print(np.sum(y < 9, axis=0)) # меньше 9 по  столбцам"
   ]
  },
  {
   "cell_type": "code",
   "execution_count": 23,
   "id": "e7bdb1f4-71c2-4792-b779-14b32c02ac4d",
   "metadata": {},
   "outputs": [
    {
     "name": "stdout",
     "output_type": "stream",
     "text": [
      "[5 3]\n"
     ]
    }
   ],
   "source": [
    "print(np.sum(y < 9, axis=1)) # меньше 9 по  строкам"
   ]
  },
  {
   "cell_type": "code",
   "execution_count": null,
   "id": "7842df79-6b7d-477a-90ae-232ee43b4988",
   "metadata": {},
   "outputs": [],
   "source": []
  },
  {
   "cell_type": "code",
   "execution_count": null,
   "id": "4534060f-b0fc-40b7-af25-9db926490b57",
   "metadata": {},
   "outputs": [],
   "source": []
  }
 ],
 "metadata": {
  "kernelspec": {
   "display_name": "Python 3 (ipykernel)",
   "language": "python",
   "name": "python3"
  },
  "language_info": {
   "codemirror_mode": {
    "name": "ipython",
    "version": 3
   },
   "file_extension": ".py",
   "mimetype": "text/x-python",
   "name": "python",
   "nbconvert_exporter": "python",
   "pygments_lexer": "ipython3",
   "version": "3.12.7"
  }
 },
 "nbformat": 4,
 "nbformat_minor": 5
}
