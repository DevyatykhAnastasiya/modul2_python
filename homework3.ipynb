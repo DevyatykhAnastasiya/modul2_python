{
 "cells": [
  {
   "cell_type": "code",
   "execution_count": 3,
   "id": "d1329f1a-20ef-4e5f-a719-dbf7af9ef884",
   "metadata": {},
   "outputs": [],
   "source": [
    "import numpy as np\n",
    "import pandas as pd\n"
   ]
  },
  {
   "cell_type": "code",
   "execution_count": 3,
   "id": "e340ba01-1ffb-42f2-b76c-2afca6c719d7",
   "metadata": {},
   "outputs": [],
   "source": [
    "# 1. Привести различные способы создания объектов типа Series\n",
    "#-списки Python или массивы NumPy\n",
    "#-скалярные значение\n",
    "#-словари\n"
   ]
  },
  {
   "cell_type": "code",
   "execution_count": 5,
   "id": "1f6f0e16-d094-4d91-a35a-3370167e39db",
   "metadata": {},
   "outputs": [
    {
     "name": "stdout",
     "output_type": "stream",
     "text": [
      "0    1\n",
      "1    2\n",
      "2    3\n",
      "3    4\n",
      "4    5\n",
      "dtype: int64\n"
     ]
    }
   ],
   "source": [
    "s1 = pd.Series([1, 2, 3, 4, 5])\n",
    "print(s1)"
   ]
  },
  {
   "cell_type": "code",
   "execution_count": 11,
   "id": "feffacaf-3671-47d9-88f9-82d038500baf",
   "metadata": {},
   "outputs": [
    {
     "data": {
      "text/plain": [
       "numpy.ndarray"
      ]
     },
     "execution_count": 11,
     "metadata": {},
     "output_type": "execute_result"
    }
   ],
   "source": [
    "ndarr = np.array([1, 2, 3, 4, 5])\n",
    "type(ndarr)\n"
   ]
  },
  {
   "cell_type": "code",
   "execution_count": 13,
   "id": "d47a1930-57e3-4656-9395-83cc4bc5fb88",
   "metadata": {},
   "outputs": [
    {
     "name": "stdout",
     "output_type": "stream",
     "text": [
      "a    1\n",
      "b    2\n",
      "c    3\n",
      "d    4\n",
      "e    5\n",
      "dtype: int32\n"
     ]
    }
   ],
   "source": [
    "s2 = pd.Series(ndarr, ['a', 'b', 'c', 'd', 'e'])\n",
    "print(s2)"
   ]
  },
  {
   "cell_type": "code",
   "execution_count": 15,
   "id": "dd7b57c5-176e-4e78-8458-d7160a681992",
   "metadata": {},
   "outputs": [
    {
     "name": "stdout",
     "output_type": "stream",
     "text": [
      "a    1\n",
      "b    2\n",
      "c    3\n",
      "dtype: int64\n"
     ]
    }
   ],
   "source": [
    "d = {'a':1, 'b':2, 'c':3}\n",
    "s3 = pd.Series(d)\n",
    "print(s3)"
   ]
  },
  {
   "cell_type": "code",
   "execution_count": 17,
   "id": "735b9589-54c7-4b43-ade3-08ff0395b492",
   "metadata": {},
   "outputs": [
    {
     "name": "stdout",
     "output_type": "stream",
     "text": [
      "a    7\n",
      "b    7\n",
      "c    7\n",
      "dtype: int64\n"
     ]
    }
   ],
   "source": [
    "a = 7\n",
    "s4 = pd.Series(a, ['a', 'b', 'c'])\n",
    "print(s4)"
   ]
  },
  {
   "cell_type": "code",
   "execution_count": 19,
   "id": "66fe8765-0c30-4e88-8f72-7896da11f330",
   "metadata": {},
   "outputs": [],
   "source": [
    "# 2. Привести различные способы создания DataFrame.\n",
    "#- через объекты Series\n",
    "# - списки словарей\n",
    "# - словари объектов Series\n",
    "# - двумерный массив NumPy\n",
    "# - структурированный массив NumPy"
   ]
  },
  {
   "cell_type": "code",
   "execution_count": 23,
   "id": "d2f481e8-eaea-48d1-b209-abe2ada3b4f2",
   "metadata": {},
   "outputs": [
    {
     "name": "stdout",
     "output_type": "stream",
     "text": [
      "    price  count\n",
      "v1      1     10\n",
      "v2      2     12\n",
      "v3      3      7\n"
     ]
    }
   ],
   "source": [
    "d = {\"price\":pd.Series([1, 2, 3], index=['v1', 'v2', 'v3']),\n",
    " \"count\": pd.Series([10, 12, 7], index=['v1', 'v2', 'v3'])}\n",
    "df1 = pd.DataFrame(d)\n",
    "print(df1)"
   ]
  },
  {
   "cell_type": "code",
   "execution_count": 25,
   "id": "53e36b6a-8ea5-42d0-b1f6-e41df113d472",
   "metadata": {},
   "outputs": [
    {
     "name": "stdout",
     "output_type": "stream",
     "text": [
      "    price  count\n",
      "v1      1     10\n",
      "v2      2     12\n",
      "v3      3      7\n"
     ]
    }
   ],
   "source": [
    "d2 = {\"price\":np.array([1, 2, 3]), \"count\": np.array([10, 12, 7])}\n",
    "df2 = pd.DataFrame(d2, index=['v1', 'v2', 'v3'])\n",
    "print(df2)"
   ]
  },
  {
   "cell_type": "code",
   "execution_count": 27,
   "id": "7e529f83-911d-4f7d-9ebe-8a1119b04e4c",
   "metadata": {},
   "outputs": [
    {
     "name": "stdout",
     "output_type": "stream",
     "text": [
      "   price  count\n",
      "0      3      8\n",
      "1      4     11\n"
     ]
    }
   ],
   "source": [
    "d3 = [{\"price\": 3, \"count\":8}, {\"price\": 4, \"count\": 11}]\n",
    "df3 = pd.DataFrame(d3)\n",
    "print(df3)"
   ]
  },
  {
   "cell_type": "code",
   "execution_count": 29,
   "id": "563588b3-482f-44cf-8d18-5dd337804256",
   "metadata": {},
   "outputs": [
    {
     "name": "stdout",
     "output_type": "stream",
     "text": [
      "    0   1   2\n",
      "0   1   2   3\n",
      "1  10  20  30\n"
     ]
    }
   ],
   "source": [
    "nda1 = np.array([[1, 2, 3], [10, 20, 30]])\n",
    "df4 = pd.DataFrame(nda1)\n",
    "print(df4)"
   ]
  },
  {
   "cell_type": "code",
   "execution_count": 31,
   "id": "936192b4-cd72-4d5a-a426-97be2a441525",
   "metadata": {},
   "outputs": [],
   "source": [
    "# 3. Объедините два объекта Series с неодинаковыми множествами ключей (индексов) так, чтобы\n",
    "# вместо NaN было установлено значение 1"
   ]
  },
  {
   "cell_type": "code",
   "execution_count": 49,
   "id": "9eae294f-7e55-4852-80fb-654db62c2570",
   "metadata": {},
   "outputs": [
    {
     "name": "stdout",
     "output_type": "stream",
     "text": [
      "   a  b\n",
      "0  3  0\n",
      "1  6  0\n",
      "   a  b  c\n",
      "0  8  1  9\n",
      "1  3  1  2\n",
      "2  1  3  0\n",
      "      a    b    c\n",
      "0  11.0  1.0  1.0\n",
      "1   9.0  1.0  1.0\n",
      "2   1.0  1.0  1.0\n"
     ]
    }
   ],
   "source": [
    "rng = np.random.default_rng()\n",
    "dfA = pd.DataFrame(rng.integers(0,10,(2,2)), columns =['a','b'])\n",
    "dfB = pd.DataFrame(rng.integers(0,10,(3,3)), columns =['a','b', 'c'])\n",
    "\n",
    "print(dfA)\n",
    "print(dfB)\n",
    "\n",
    "print ((dfA + dfB).fillna(1))"
   ]
  },
  {
   "cell_type": "code",
   "execution_count": 55,
   "id": "2d9a828f-39dc-457b-89b8-c20098c6c1c8",
   "metadata": {},
   "outputs": [
    {
     "name": "stdout",
     "output_type": "stream",
     "text": [
      "   a  b\n",
      "0  7  3\n",
      "1  4  7\n",
      "   a  b  c\n",
      "0  7  9  8\n",
      "1  3  9  6\n",
      "2  7  7  1\n",
      "      a     b    c\n",
      "0  14.0  12.0  9.0\n",
      "1   7.0  16.0  7.0\n",
      "2   8.0   8.0  2.0\n"
     ]
    }
   ],
   "source": [
    "rng = np.random.default_rng()\n",
    "dfA2 = pd.DataFrame(rng.integers(0,10,(2,2)), columns =['a','b'])\n",
    "dfB2 = pd.DataFrame(rng.integers(0,10,(3,3)), columns =['a','b', 'c'])\n",
    "\n",
    "print (dfA2)\n",
    "print (dfB2)\n",
    "\n",
    "print (dfA2.add(dfB2, fill_value=1))"
   ]
  },
  {
   "cell_type": "code",
   "execution_count": 34,
   "id": "4491bdc6-4fde-4409-a075-8aae2e250ffc",
   "metadata": {},
   "outputs": [],
   "source": [
    "# 4. Переписать пример с транслированием для DataFrame так, чтобы вычитание происходило \n",
    "# по столбцам, а не по строкам"
   ]
  },
  {
   "cell_type": "code",
   "execution_count": 69,
   "id": "b83c3056-a1fc-4909-b67e-1f8998ba1a5a",
   "metadata": {},
   "outputs": [
    {
     "name": "stdout",
     "output_type": "stream",
     "text": [
      "[[4 5 7 9]\n",
      " [0 1 8 9]\n",
      " [2 3 8 4]]\n"
     ]
    }
   ],
   "source": [
    "rng = np.random.default_rng(1)\n",
    "\n",
    "A = rng.integers(0, 10, (3,4))\n",
    "print(A)"
   ]
  },
  {
   "cell_type": "code",
   "execution_count": 71,
   "id": "f5ab67be-e962-4351-a22a-88d7593fdc93",
   "metadata": {},
   "outputs": [
    {
     "name": "stdout",
     "output_type": "stream",
     "text": [
      "   a  b  c  d\n",
      "0  4  5  7  9\n",
      "1  0  1  8  9\n",
      "2  2  3  8  4\n"
     ]
    }
   ],
   "source": [
    "df = pd.DataFrame(A, columns=['a','b','c','d'])\n",
    "print(df)"
   ]
  },
  {
   "cell_type": "code",
   "execution_count": 73,
   "id": "287459f7-9e31-423d-96a3-61d1f27cdd7b",
   "metadata": {},
   "outputs": [
    {
     "name": "stdout",
     "output_type": "stream",
     "text": [
      "a    4\n",
      "c    7\n",
      "Name: 0, dtype: int64\n"
     ]
    }
   ],
   "source": [
    "print (df.iloc[0, ::2])"
   ]
  },
  {
   "cell_type": "code",
   "execution_count": 77,
   "id": "212004cb-3480-4b42-872e-41e1d7058a38",
   "metadata": {},
   "outputs": [
    {
     "name": "stdout",
     "output_type": "stream",
     "text": [
      "    a   b   c   d\n",
      "0 NaN NaN NaN NaN\n",
      "1 NaN NaN NaN NaN\n",
      "2 NaN NaN NaN NaN\n",
      "a NaN NaN NaN NaN\n",
      "c NaN NaN NaN NaN\n"
     ]
    }
   ],
   "source": [
    "# Транспонируем -> вычитаем -> транспонируем обратно\n",
    "result = (df.T - df.iloc[0, ::2]).T\n",
    "\n",
    "print(result)"
   ]
  },
  {
   "cell_type": "code",
   "execution_count": 37,
   "id": "cf77f598-f058-46ef-ac13-5c59d94bf146",
   "metadata": {},
   "outputs": [],
   "source": [
    "#5. На примере объектов DataFrame продемонстрируйте использование методов ffill() и bfill()\n",
    "# ffill() (прямое заполнение) заполняет пропущенные значения предыдущим допустимым значением в столбце.\n",
    "\n",
    "# bfill() (обратное заполнение) заполняет пропущенные значения следующим допустимым значением в столбце.\n"
   ]
  },
  {
   "cell_type": "code",
   "execution_count": 63,
   "id": "5a19654d-e4eb-4d5b-b83f-aa85974d82ec",
   "metadata": {},
   "outputs": [
    {
     "name": "stdout",
     "output_type": "stream",
     "text": [
      "   Max Temperature  Min Temperature  Avg Temperature\n",
      "0             22.7              NaN             21.4\n",
      "1             24.8             20.1             23.5\n",
      "2              NaN             18.4              NaN\n",
      "3              NaN              NaN             20.3\n",
      "4             29.9              NaN              NaN\n",
      "5              NaN              NaN             19.8\n",
      "6             45.0             15.5             20.4\n",
      "   Max Temperature  Min Temperature  Avg Temperature\n",
      "0             22.7              NaN             21.4\n",
      "1             24.8             20.1             23.5\n",
      "2             24.8             18.4             23.5\n",
      "3             24.8             18.4             20.3\n",
      "4             29.9             18.4             20.3\n",
      "5             29.9             18.4             19.8\n",
      "6             45.0             15.5             20.4\n"
     ]
    }
   ],
   "source": [
    "df = pd.DataFrame(\n",
    "    {\n",
    "        \"Max Temperature\": [22.7, 24.8, np.nan, np.nan, 29.9, np.nan, 45],\n",
    "        \"Min Temperature\": [np.nan, 20.1, 18.4, np.nan, np.nan, np.nan, 15.5],\n",
    "        \"Avg Temperature\": [21.4, 23.5, np.nan, 20.3, np.nan, 19.8, 20.4]\n",
    "    }\n",
    ")\n",
    "print(df)\n",
    "\n",
    "ffill_df = df.ffill()\n",
    "print(ffill_df)"
   ]
  },
  {
   "cell_type": "code",
   "execution_count": 65,
   "id": "76339054-cd3f-454e-9fdc-223c6cb12e25",
   "metadata": {},
   "outputs": [
    {
     "name": "stdout",
     "output_type": "stream",
     "text": [
      "   Max Temperature  Min Temperature  Avg Temperature\n",
      "0             22.7             20.1             21.4\n",
      "1             24.8             20.1             23.5\n",
      "2             29.9             18.4             20.3\n",
      "3             29.9             15.5             20.3\n",
      "4             29.9             15.5             19.8\n",
      "5             45.0             15.5             19.8\n",
      "6             45.0             15.5             20.4\n"
     ]
    }
   ],
   "source": [
    "bfill_df = df.bfill()\n",
    "print(bfill_df)"
   ]
  },
  {
   "cell_type": "code",
   "execution_count": null,
   "id": "16b38ef6-c962-42a2-9414-bff6784ade0e",
   "metadata": {},
   "outputs": [],
   "source": []
  }
 ],
 "metadata": {
  "kernelspec": {
   "display_name": "Python 3 (ipykernel)",
   "language": "python",
   "name": "python3"
  },
  "language_info": {
   "codemirror_mode": {
    "name": "ipython",
    "version": 3
   },
   "file_extension": ".py",
   "mimetype": "text/x-python",
   "name": "python",
   "nbconvert_exporter": "python",
   "pygments_lexer": "ipython3",
   "version": "3.12.7"
  }
 },
 "nbformat": 4,
 "nbformat_minor": 5
}
